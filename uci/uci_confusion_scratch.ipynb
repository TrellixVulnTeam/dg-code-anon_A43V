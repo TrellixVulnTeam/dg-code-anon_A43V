{
 "cells": [
  {
   "cell_type": "code",
   "execution_count": 2,
   "metadata": {
    "pycharm": {
     "is_executing": false
    }
   },
   "outputs": [],
   "source": [
    "import numpy as np\n",
    "import sklearn as sk\n",
    "import pylab as plt\n",
    "import pandas as pd\n",
    "import os\n",
    "import torch\n",
    "from tqdm.auto import tqdm\n",
    "\n",
    "from sklearn.ensemble import RandomForestClassifier\n",
    "from sklearn.metrics import ConfusionMatrixDisplay"
   ]
  },
  {
   "cell_type": "code",
   "execution_count": 3,
   "metadata": {
    "jupyter": {
     "outputs_hidden": false
    },
    "pycharm": {
     "is_executing": false,
     "name": "#%%\n"
    }
   },
   "outputs": [],
   "source": [
    "datadir = '/Users/ANONYMOUS/tmp/data/UCI/data'\n",
    "\n",
    "def get_uci_info():\n",
    "    info = []\n",
    "    for idx, dataset in enumerate(sorted(os.listdir(datadir))):\n",
    "        if not os.path.isdir(datadir + \"/\" + dataset):\n",
    "            continue\n",
    "        if not os.path.isfile(datadir + \"/\" + dataset + \"/\" + dataset + \".txt\"):\n",
    "            continue\n",
    "        dic = dict()\n",
    "        for k, v in map(lambda x : x.split(), open(datadir + \"/\" + dataset + \"/\" + dataset + \".txt\", \"r\").readlines()):\n",
    "            dic[k] = v\n",
    "        c = int(dic[\"n_clases=\"])\n",
    "        d = int(dic[\"n_entradas=\"])\n",
    "        n_train = int(dic[\"n_patrons_entrena=\"])\n",
    "        n_val = int(dic[\"n_patrons_valida=\"])\n",
    "        n_train_val = int(dic[\"n_patrons1=\"])\n",
    "        n_test = 0\n",
    "        if \"n_patrons2=\" in dic:\n",
    "            n_test = int(dic[\"n_patrons2=\"])\n",
    "        n_tot = n_train_val + n_test\n",
    "        \n",
    "        p = dict(\n",
    "            name=dataset,\n",
    "            n = n_tot,\n",
    "             num_classes=c,\n",
    "             num_features=d\n",
    "             )\n",
    "            \n",
    "        info.append(p)\n",
    "\n",
    "    return pd.DataFrame(info)\n",
    "\n",
    "\n",
    "def load_uci(dataset : str):\n",
    "    dic = dict() \n",
    "    for k, v in map(lambda x : x.split(), open(datadir + \"/\" + dataset + \"/\" + dataset + \".txt\", \"r\").readlines()):\n",
    "        dic[k] = v\n",
    "    c = int(dic[\"n_clases=\"])\n",
    "    d = int(dic[\"n_entradas=\"])\n",
    "    n_train = int(dic[\"n_patrons_entrena=\"])\n",
    "    n_val = int(dic[\"n_patrons_valida=\"])\n",
    "    n_train_val = int(dic[\"n_patrons1=\"])\n",
    "    n_test = 0\n",
    "    if \"n_patrons2=\" in dic:\n",
    "        n_test = int(dic[\"n_patrons2=\"])\n",
    "    n_tot = n_train_val + n_test\n",
    "    \n",
    "    def load_dat(sub_name):\n",
    "        f = open(datadir + '/' + dataset + \"/\" + sub_name, \"r\").readlines()[1:]\n",
    "        X = np.asarray(list(map(lambda x: list(map(float, x.split()[1:-1])), f)))\n",
    "        y = np.asarray(list(map(lambda x: int(x.split()[-1]), f)))\n",
    "        return X, y\n",
    "        \n",
    "    X, y = load_dat(dic[\"fich1=\"])\n",
    "    if n_test > 0: # if a test set is provided, add its samples too.\n",
    "        X2, y2 = load_dat(dic[\"fich2=\"])\n",
    "        X = np.concatenate((X, X2))\n",
    "        y = np.concatenate((y, y2))    \n",
    "    \n",
    "    fold = list(map(lambda x: list(map(int, x.split())), open(datadir + \"/\" + dataset + \"/\" + \"conxuntos_kfold.dat\", \"r\").readlines()))\n",
    "    #len(fold) == 8. Includes 4 cross-val splits.\n",
    "    \n",
    "    p = dict(n = n_tot,\n",
    "             num_classes=c,\n",
    "             num_features=d,\n",
    "             X=X,\n",
    "             y=y,\n",
    "             train_fold=fold[0],\n",
    "             test_fold=fold[1],\n",
    "             folds=fold,\n",
    "             )\n",
    "    return p"
   ]
  },
  {
   "cell_type": "code",
   "execution_count": 4,
   "metadata": {
    "pycharm": {
     "is_executing": false,
     "name": "#%%\n"
    }
   },
   "outputs": [],
   "source": [
    "uci = get_uci_info()"
   ]
  },
  {
   "cell_type": "code",
   "execution_count": 5,
   "metadata": {},
   "outputs": [
    {
     "data": {
      "text/html": [
       "<div>\n",
       "<style scoped>\n",
       "    .dataframe tbody tr th:only-of-type {\n",
       "        vertical-align: middle;\n",
       "    }\n",
       "\n",
       "    .dataframe tbody tr th {\n",
       "        vertical-align: top;\n",
       "    }\n",
       "\n",
       "    .dataframe thead th {\n",
       "        text-align: right;\n",
       "    }\n",
       "</style>\n",
       "<table border=\"1\" class=\"dataframe\">\n",
       "  <thead>\n",
       "    <tr style=\"text-align: right;\">\n",
       "      <th></th>\n",
       "      <th>name</th>\n",
       "      <th>n</th>\n",
       "      <th>num_classes</th>\n",
       "      <th>num_features</th>\n",
       "    </tr>\n",
       "  </thead>\n",
       "  <tbody>\n",
       "    <tr>\n",
       "      <th>27</th>\n",
       "      <td>cylinder-bands</td>\n",
       "      <td>512</td>\n",
       "      <td>2</td>\n",
       "      <td>35</td>\n",
       "    </tr>\n",
       "    <tr>\n",
       "      <th>53</th>\n",
       "      <td>low-res-spect</td>\n",
       "      <td>531</td>\n",
       "      <td>9</td>\n",
       "      <td>100</td>\n",
       "    </tr>\n",
       "    <tr>\n",
       "      <th>63</th>\n",
       "      <td>monks-3</td>\n",
       "      <td>554</td>\n",
       "      <td>2</td>\n",
       "      <td>6</td>\n",
       "    </tr>\n",
       "    <tr>\n",
       "      <th>61</th>\n",
       "      <td>monks-1</td>\n",
       "      <td>556</td>\n",
       "      <td>2</td>\n",
       "      <td>6</td>\n",
       "    </tr>\n",
       "    <tr>\n",
       "      <th>13</th>\n",
       "      <td>breast-cancer-wisc-diag</td>\n",
       "      <td>569</td>\n",
       "      <td>2</td>\n",
       "      <td>30</td>\n",
       "    </tr>\n",
       "    <tr>\n",
       "      <th>...</th>\n",
       "      <td>...</td>\n",
       "      <td>...</td>\n",
       "      <td>...</td>\n",
       "      <td>...</td>\n",
       "    </tr>\n",
       "    <tr>\n",
       "      <th>19</th>\n",
       "      <td>chess-krvk</td>\n",
       "      <td>28056</td>\n",
       "      <td>18</td>\n",
       "      <td>6</td>\n",
       "    </tr>\n",
       "    <tr>\n",
       "      <th>3</th>\n",
       "      <td>adult</td>\n",
       "      <td>48842</td>\n",
       "      <td>2</td>\n",
       "      <td>14</td>\n",
       "    </tr>\n",
       "    <tr>\n",
       "      <th>101</th>\n",
       "      <td>statlog-shuttle</td>\n",
       "      <td>58000</td>\n",
       "      <td>7</td>\n",
       "      <td>9</td>\n",
       "    </tr>\n",
       "    <tr>\n",
       "      <th>24</th>\n",
       "      <td>connect-4</td>\n",
       "      <td>67557</td>\n",
       "      <td>2</td>\n",
       "      <td>42</td>\n",
       "    </tr>\n",
       "    <tr>\n",
       "      <th>58</th>\n",
       "      <td>miniboone</td>\n",
       "      <td>130064</td>\n",
       "      <td>2</td>\n",
       "      <td>50</td>\n",
       "    </tr>\n",
       "  </tbody>\n",
       "</table>\n",
       "<p>70 rows × 4 columns</p>\n",
       "</div>"
      ],
      "text/plain": [
       "                        name       n  num_classes  num_features\n",
       "27            cylinder-bands     512            2            35\n",
       "53             low-res-spect     531            9           100\n",
       "63                   monks-3     554            2             6\n",
       "61                   monks-1     556            2             6\n",
       "13   breast-cancer-wisc-diag     569            2            30\n",
       "..                       ...     ...          ...           ...\n",
       "19                chess-krvk   28056           18             6\n",
       "3                      adult   48842            2            14\n",
       "101          statlog-shuttle   58000            7             9\n",
       "24                 connect-4   67557            2            42\n",
       "58                 miniboone  130064            2            50\n",
       "\n",
       "[70 rows x 4 columns]"
      ]
     },
     "execution_count": 5,
     "metadata": {},
     "output_type": "execute_result"
    }
   ],
   "source": [
    "uci[(uci['n'] >= 500) & (uci['num_classes'] >= 2)].sort_values('n')"
   ]
  },
  {
   "cell_type": "code",
   "execution_count": 81,
   "metadata": {},
   "outputs": [
    {
     "data": {
      "text/plain": [
       "[767, 768, 1655]"
      ]
     },
     "execution_count": 81,
     "metadata": {},
     "output_type": "execute_result"
    }
   ],
   "source": [
    "d = load_uci('molec-biol-splice')\n",
    "[np.sum(d['y'] == i) for i in range(d['num_classes'])]"
   ]
  },
  {
   "cell_type": "code",
   "execution_count": 152,
   "metadata": {
    "jupyter": {
     "outputs_hidden": false
    },
    "pycharm": {
     "is_executing": false,
     "name": "#%%\n"
    }
   },
   "outputs": [],
   "source": [
    "def train(x, y, trees=1):\n",
    "    clf = RandomForestClassifier(random_state=0, n_estimators=trees, bootstrap=False) \n",
    "    clf.fit(x, y)\n",
    "    return clf\n",
    "\n",
    "def joint_density(Y, L, num_classes=None):\n",
    "    '''\n",
    "        Estimates the joint density of (Y, L)\n",
    "        where Y \\in [nY],  L \\in [nL].\n",
    "\n",
    "        In other words, returns the confusion matrix.\n",
    "    '''\n",
    "    if num_classes is None:\n",
    "        nY=np.max(Y)+1\n",
    "        nL=np.max(L)+1\n",
    "    else:\n",
    "        nY = nL = num_classes\n",
    "        \n",
    "    C = np.zeros((nY, nL))\n",
    "    for yhat, ell in zip(Y, L):\n",
    "        C[yhat, ell] += 1\n",
    "    C /= np.sum(C)\n",
    "    return C\n",
    "\n",
    "def apply_noise(Y, confusion_matx):\n",
    "    C = torch.Tensor(confusion_matx)  # C[i, j] = Pr[j --> i]\n",
    "    Y_new = np.empty_like(Y)\n",
    "    for i in range(len(Y)):\n",
    "        y = Y[i]\n",
    "        p = C[:, y]\n",
    "        yNew = torch.distributions.categorical.Categorical(probs=p).sample()\n",
    "        #print(p)\n",
    "        Y_new[i] = yNew\n",
    "    return Y_new"
   ]
  },
  {
   "cell_type": "code",
   "execution_count": 176,
   "metadata": {},
   "outputs": [
    {
     "data": {
      "application/vnd.jupyter.widget-view+json": {
       "model_id": "da8bf4b3780942bf8a2b6bb9414c6e09",
       "version_major": 2,
       "version_minor": 0
      },
      "text/plain": [
       "HBox(children=(IntProgress(value=0, max=56), HTML(value='')))"
      ]
     },
     "metadata": {},
     "output_type": "display_data"
    },
    {
     "name": "stdout",
     "output_type": "stream",
     "text": [
      "\n"
     ]
    }
   ],
   "source": [
    "## Misc scratch\n",
    "\n",
    "def get_acc(name):\n",
    "    d = load_uci(name) \n",
    "    X = d['X']\n",
    "    y = d['y']\n",
    "    n = d['n']\n",
    "    I_tr = d['train_fold']\n",
    "    I_te = d['test_fold']\n",
    "    X_tr, y_tr = X[I_tr], y[I_tr]\n",
    "    X_te, y_te = X[I_te], y[I_te]\n",
    "    nc = d['num_classes']\n",
    "\n",
    "    f = train(X_tr, y_tr)\n",
    "    preds = f.predict(X_te)\n",
    "\n",
    "    acc = (preds == y_te).mean()\n",
    "    return acc\n",
    "\n",
    "#get_acc('wine-quality-red')\n",
    "\n",
    "ds = uci[(uci['n'] >= 500) & (uci['num_classes'] >= 2)]\n",
    "accs = [get_acc(n) for n in tqdm(ds['name'])]"
   ]
  },
  {
   "cell_type": "code",
   "execution_count": 170,
   "metadata": {
    "jupyter": {
     "outputs_hidden": false
    },
    "pycharm": {
     "is_executing": false,
     "name": "#%%\n"
    }
   },
   "outputs": [
    {
     "name": "stdout",
     "output_type": "stream",
     "text": [
      "len(tr): 2393\n",
      "len(te): 797\n",
      "train acc: 0.9995821145006268\n",
      "acc: 0.6725219573400251\n"
     ]
    }
   ],
   "source": [
    "d = load_uci('molec-biol-splice') # dermatology\n",
    "X = d['X']\n",
    "y = d['y']\n",
    "n = d['n']\n",
    "\n",
    "I_tr = d['train_fold']\n",
    "I_te = d['test_fold']\n",
    "X_tr, y_tr = X[I_tr], y[I_tr]\n",
    "X_te, y_te = X[I_te], y[I_te]\n",
    "\n",
    "nc = d['num_classes']\n",
    "# C[i, j] = Pr[j --> i]\n",
    "C = np.eye(nc)\n",
    "C[2, 2] = 0.7\n",
    "C[1, 2] = 0.3\n",
    "C[0, 2] = 0.0\n",
    "y_tr_orig = np.copy(y_tr)\n",
    "y_tr = apply_noise(y_tr_orig, C)\n",
    "\n",
    "print('len(tr):', len(y_tr))\n",
    "print('len(te):', len(y_te))\n",
    "\n",
    "f = train(X_tr, y_tr)\n",
    "preds = f.predict(X_te)\n",
    "\n",
    "print('train acc:', (f.predict(X_tr) == y_tr).mean())\n",
    "print('acc:', (preds == y_te).mean())"
   ]
  },
  {
   "cell_type": "code",
   "execution_count": 171,
   "metadata": {
    "jupyter": {
     "outputs_hidden": false
    },
    "pycharm": {
     "name": "#%%\n"
    }
   },
   "outputs": [
    {
     "data": {
      "text/plain": [
       "Text(0.5, 1.0, 'Joint Density (Test)')"
      ]
     },
     "execution_count": 171,
     "metadata": {},
     "output_type": "execute_result"
    },
    {
     "data": {
      "image/png": "[encoded data removed]",
      "text/plain": [
       "<Figure size 432x432 with 2 Axes>"
      ]
     },
     "metadata": {
      "needs_background": "light"
     },
     "output_type": "display_data"
    },
    {
     "data": {
      "image/png": "[encoded data removed]",
      "text/plain": [
       "<Figure size 432x432 with 2 Axes>"
      ]
     },
     "metadata": {
      "needs_background": "light"
     },
     "output_type": "display_data"
    }
   ],
   "source": [
    "cm_tr = joint_density(f.predict(X_tr), y_tr_orig)\n",
    "cm_te = joint_density(preds, y_te)\n",
    "\n",
    "fig, ax = plt.subplots(figsize=(6, 6))\n",
    "disp = ConfusionMatrixDisplay(cm_tr.T, display_labels=[f'{i}' for i in range(d['num_classes'])])\n",
    "disp.plot(ax=ax)\n",
    "ax.set_title('Joint Density (Train)')\n",
    "\n",
    "fig, ax = plt.subplots(figsize=(6, 6))\n",
    "disp = ConfusionMatrixDisplay(cm_te.T, display_labels=[f'{i}' for i in range(d['num_classes'])])\n",
    "disp.plot(ax=ax)\n",
    "ax.set_title('Joint Density (Test)')"
   ]
  },
  {
   "cell_type": "code",
   "execution_count": 173,
   "metadata": {},
   "outputs": [
    {
     "name": "stdout",
     "output_type": "stream",
     "text": [
      "len(tr): 1595\n",
      "len(te): 531\n",
      "train acc: 0.9987460815047022\n",
      "acc: 0.8888888888888888\n"
     ]
    }
   ],
   "source": []
  },
  {
   "cell_type": "markdown",
   "metadata": {},
   "source": [
    "## Auto plot"
   ]
  },
  {
   "cell_type": "code",
   "execution_count": 156,
   "metadata": {},
   "outputs": [],
   "source": [
    "def plot_confusion(cm, display_labels=None, include_values=True, cmap='viridis',\n",
    "         xticks_rotation='horizontal', values_format=None, ax=None):\n",
    "    \"\"\"Plot visualization. \n",
    "    https://github.com/scikit-learn/scikit-learn/blob/483cd3eaa/sklearn/metrics/_plot/confusion_matrix.py#L11\n",
    "    \n",
    "    Parameters\n",
    "    ----------\n",
    "    include_values : bool, default=True\n",
    "        Includes values in confusion matrix.\n",
    "    cmap : str or matplotlib Colormap, default='viridis'\n",
    "        Colormap recognized by matplotlib.\n",
    "    xticks_rotation : {'vertical', 'horizontal'} or float, \\\n",
    "                     default='horizontal'\n",
    "        Rotation of xtick labels.\n",
    "    values_format : str, default=None\n",
    "        Format specification for values in confusion matrix. If `None`,\n",
    "        the format specification is 'd' or '.2g' whichever is shorter.\n",
    "    ax : matplotlib axes, default=None\n",
    "        Axes object to plot on. If `None`, a new figure and axes is\n",
    "        created.\n",
    "    \"\"\"\n",
    "    cm = cm.T # TRANSPOSE\n",
    "    n_classes = cm.shape[0]\n",
    "    \n",
    "    import matplotlib.pyplot as plt\n",
    "    from itertools import product\n",
    "\n",
    "    if ax is None:\n",
    "        fig, ax = plt.subplots()\n",
    "    else:\n",
    "        fig = ax.figure\n",
    "\n",
    "    im_ = ax.imshow(cm, interpolation='nearest', cmap=cmap)\n",
    "    text_ = None\n",
    "    cmap_min, cmap_max = im_.cmap(0), im_.cmap(256)\n",
    "\n",
    "    if include_values:\n",
    "        text_ = np.empty_like(cm, dtype=object)\n",
    "\n",
    "        # print text with appropriate color depending on background\n",
    "        thresh = (cm.max() + cm.min()) / 2.0\n",
    "\n",
    "        for i, j in product(range(n_classes), range(n_classes)):\n",
    "            color = cmap_max if cm[i, j] < thresh else cmap_min\n",
    "\n",
    "            if values_format is None:\n",
    "                text_cm = format(cm[i, j], '.2g')\n",
    "                if cm.dtype.kind != 'f':\n",
    "                    text_d = format(cm[i, j], 'd')\n",
    "                    if len(text_d) < len(text_cm):\n",
    "                        text_cm = text_d\n",
    "            else:\n",
    "                text_cm = format(cm[i, j], values_format)\n",
    "\n",
    "            text_[i, j] = ax.text(\n",
    "                j, i, text_cm,\n",
    "                ha=\"center\", va=\"center\",\n",
    "                color=color)\n",
    "\n",
    "    if display_labels is None:\n",
    "        display_labels = np.arange(n_classes)\n",
    "\n",
    "    #fig.colorbar(self.im_, ax=ax)\n",
    "    ax.set(xticks=np.arange(n_classes),\n",
    "           yticks=np.arange(n_classes),\n",
    "           xticklabels=display_labels,\n",
    "           yticklabels=display_labels,\n",
    "           ylabel=\"True label\",\n",
    "           xlabel=\"Predicted label\")\n",
    "\n",
    "    ax.set_ylim((n_classes - 0.5, -0.5))\n",
    "    plt.setp(ax.get_xticklabels(), rotation=xticks_rotation)\n",
    "\n",
    "    return (fig, ax)"
   ]
  },
  {
   "cell_type": "code",
   "execution_count": 166,
   "metadata": {},
   "outputs": [
    {
     "name": "stdout",
     "output_type": "stream",
     "text": [
      "train acc: 0.9995821145006268\n",
      "acc: 0.7867001254705144\n",
      "train acc: 0.9995821145006268\n",
      "acc: 0.6825595984943539\n",
      "train acc: 0.9995821145006268\n",
      "acc: 0.5759096612296111\n",
      "train acc: 1.0\n",
      "acc: 0.5282308657465495\n",
      "train acc: 1.0\n",
      "acc: 0.40526976160602257\n"
     ]
    },
    {
     "data": {
      "image/png": "[encoded data removed]",
      "text/plain": [
       "<Figure size 1440x720 with 10 Axes>"
      ]
     },
     "metadata": {
      "needs_background": "light"
     },
     "output_type": "display_data"
    }
   ],
   "source": [
    "ntrees=1 # doesn't hold for Random Forest\n",
    "d = load_uci('molec-biol-splice') # dermatology\n",
    "X = d['X']\n",
    "y = d['y']\n",
    "n = d['n']\n",
    "nc = d['num_classes']\n",
    "\n",
    "I_tr = d['train_fold']\n",
    "I_te = d['test_fold']\n",
    "X_tr, y_tr = X[I_tr], y[I_tr]\n",
    "X_te, y_te = X[I_te], y[I_te]\n",
    "y_tr_orig = np.copy(y_tr)\n",
    "\n",
    "def getC(p=0.3):\n",
    "    # C[i, j] = Pr[j --> i]\n",
    "    C = np.eye(nc)\n",
    "    C[2, 2] = (1-p)\n",
    "    C[1, 2] = p\n",
    "    C[0, 2] = 0.0\n",
    "    return C\n",
    "\n",
    "gammas = np.linspace(0, 1.0, 5)\n",
    "fig, axs = plt.subplots(2, len(gammas), figsize=(20, 10))\n",
    "    \n",
    "for i, g in enumerate(gammas):\n",
    "    C = getC(g)\n",
    "    y_tr = apply_noise(y_tr_orig, C)\n",
    "\n",
    "    f = train(X_tr, y_tr, trees=ntrees)\n",
    "    preds = f.predict(X_te)\n",
    "\n",
    "    print('train acc:', (f.predict(X_tr) == y_tr).mean())\n",
    "    print('acc:', (preds == y_te).mean())\n",
    "\n",
    "    #cm_tr = joint_density(f.predict(X_tr), y_tr_orig, num_classes=nc)\n",
    "    cm_tr = joint_density(y_tr, y_tr_orig, num_classes=nc)\n",
    "    cm_te = joint_density(preds, y_te, num_classes=nc)\n",
    "\n",
    "    plot_confusion(cm_tr, ax=axs[0, i], display_labels=None)\n",
    "    axs[0, i].set_title(f'Joint Density (Train). p={g}')\n",
    "    plot_confusion(cm_te, ax=axs[1, i], display_labels=None)\n",
    "    axs[1, i].set_title(f'Joint Density (Test). p={g}')\n"
   ]
  },
  {
   "cell_type": "code",
   "execution_count": 168,
   "metadata": {},
   "outputs": [],
   "source": [
    "fig.savefig('uci_confusion.png')"
   ]
  },
  {
   "cell_type": "code",
   "execution_count": null,
   "metadata": {},
   "outputs": [],
   "source": []
  }
 ],
 "metadata": {
  "kernelspec": {
   "display_name": "Python 3",
   "language": "python",
   "name": "python3"
  },
  "language_info": {
   "codemirror_mode": {
    "name": "ipython",
    "version": 3
   },
   "file_extension": ".py",
   "mimetype": "text/x-python",
   "name": "python",
   "nbconvert_exporter": "python",
   "pygments_lexer": "ipython3",
   "version": "3.7.4"
  },
  "pycharm": {
   "stem_cell": {
    "cell_type": "raw",
    "metadata": {
     "collapsed": false
    },
    "source": []
   }
  }
 },
 "nbformat": 4,
 "nbformat_minor": 4
}
