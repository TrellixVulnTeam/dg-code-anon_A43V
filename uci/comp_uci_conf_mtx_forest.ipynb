{
 "cells": [
  {
   "cell_type": "code",
   "execution_count": 6,
   "metadata": {},
   "outputs": [],
   "source": [
    "import numpy as np\n",
    "import sklearn as sk\n",
    "import pylab as plt\n",
    "import pandas as pd\n",
    "import os\n",
    "import torch\n",
    "from tqdm.auto import tqdm\n",
    "from nde.uci import get_uci_info, load_uci\n",
    "\n",
    "from sklearn.ensemble import RandomForestClassifier\n",
    "from sklearn.metrics import ConfusionMatrixDisplay\n",
    "from common import gsave, gload\n",
    "\n",
    "def train(x, y):\n",
    "    clf = RandomForestClassifier(random_state=0, n_estimators=100) \n",
    "    clf.fit(x, y)\n",
    "    return clf\n",
    "\n",
    "def get_acc(name):\n",
    "    d = load_uci(name) \n",
    "    X = d['X']\n",
    "    y = d['y']\n",
    "    n = d['n']\n",
    "    I_tr = d['train_fold']\n",
    "    I_te = d['test_fold']\n",
    "    X_tr, y_tr = X[I_tr], y[I_tr]\n",
    "    X_te, y_te = X[I_te], y[I_te]\n",
    "    nc = d['num_classes']\n",
    "\n",
    "    f = train(X_tr, y_tr)\n",
    "    preds = f.predict(X_te)\n",
    "\n",
    "    acc = (preds == y_te).mean()\n",
    "    return acc"
   ]
  },
  {
   "cell_type": "code",
   "execution_count": 7,
   "metadata": {},
   "outputs": [],
   "source": [
    "uci = get_uci_info()"
   ]
  },
  {
   "cell_type": "code",
   "execution_count": 8,
   "metadata": {
    "scrolled": true
   },
   "outputs": [
    {
     "data": {
      "text/html": [
       "<div>\n",
       "<style scoped>\n",
       "    .dataframe tbody tr th:only-of-type {\n",
       "        vertical-align: middle;\n",
       "    }\n",
       "\n",
       "    .dataframe tbody tr th {\n",
       "        vertical-align: top;\n",
       "    }\n",
       "\n",
       "    .dataframe thead th {\n",
       "        text-align: right;\n",
       "    }\n",
       "</style>\n",
       "<table border=\"1\" class=\"dataframe\">\n",
       "  <thead>\n",
       "    <tr style=\"text-align: right;\">\n",
       "      <th></th>\n",
       "      <th>name</th>\n",
       "      <th>n</th>\n",
       "      <th>num_classes</th>\n",
       "      <th>num_features</th>\n",
       "    </tr>\n",
       "  </thead>\n",
       "  <tbody>\n",
       "    <tr>\n",
       "      <th>41</th>\n",
       "      <td>heart-va</td>\n",
       "      <td>200</td>\n",
       "      <td>5</td>\n",
       "      <td>12</td>\n",
       "    </tr>\n",
       "    <tr>\n",
       "      <th>22</th>\n",
       "      <td>conn-bench-sonar-mines-rocks</td>\n",
       "      <td>208</td>\n",
       "      <td>2</td>\n",
       "      <td>60</td>\n",
       "    </tr>\n",
       "    <tr>\n",
       "      <th>90</th>\n",
       "      <td>seeds</td>\n",
       "      <td>210</td>\n",
       "      <td>3</td>\n",
       "      <td>7</td>\n",
       "    </tr>\n",
       "    <tr>\n",
       "      <th>35</th>\n",
       "      <td>glass</td>\n",
       "      <td>214</td>\n",
       "      <td>6</td>\n",
       "      <td>9</td>\n",
       "    </tr>\n",
       "    <tr>\n",
       "      <th>94</th>\n",
       "      <td>spect</td>\n",
       "      <td>265</td>\n",
       "      <td>2</td>\n",
       "      <td>22</td>\n",
       "    </tr>\n",
       "    <tr>\n",
       "      <th>...</th>\n",
       "      <td>...</td>\n",
       "      <td>...</td>\n",
       "      <td>...</td>\n",
       "      <td>...</td>\n",
       "    </tr>\n",
       "    <tr>\n",
       "      <th>19</th>\n",
       "      <td>chess-krvk</td>\n",
       "      <td>28056</td>\n",
       "      <td>18</td>\n",
       "      <td>6</td>\n",
       "    </tr>\n",
       "    <tr>\n",
       "      <th>3</th>\n",
       "      <td>adult</td>\n",
       "      <td>48842</td>\n",
       "      <td>2</td>\n",
       "      <td>14</td>\n",
       "    </tr>\n",
       "    <tr>\n",
       "      <th>101</th>\n",
       "      <td>statlog-shuttle</td>\n",
       "      <td>58000</td>\n",
       "      <td>7</td>\n",
       "      <td>9</td>\n",
       "    </tr>\n",
       "    <tr>\n",
       "      <th>24</th>\n",
       "      <td>connect-4</td>\n",
       "      <td>67557</td>\n",
       "      <td>2</td>\n",
       "      <td>42</td>\n",
       "    </tr>\n",
       "    <tr>\n",
       "      <th>58</th>\n",
       "      <td>miniboone</td>\n",
       "      <td>130064</td>\n",
       "      <td>2</td>\n",
       "      <td>50</td>\n",
       "    </tr>\n",
       "  </tbody>\n",
       "</table>\n",
       "<p>92 rows × 4 columns</p>\n",
       "</div>"
      ],
      "text/plain": [
       "                             name       n  num_classes  num_features\n",
       "41                       heart-va     200            5            12\n",
       "22   conn-bench-sonar-mines-rocks     208            2            60\n",
       "90                          seeds     210            3             7\n",
       "35                          glass     214            6             9\n",
       "94                          spect     265            2            22\n",
       "..                            ...     ...          ...           ...\n",
       "19                     chess-krvk   28056           18             6\n",
       "3                           adult   48842            2            14\n",
       "101               statlog-shuttle   58000            7             9\n",
       "24                      connect-4   67557            2            42\n",
       "58                      miniboone  130064            2            50\n",
       "\n",
       "[92 rows x 4 columns]"
      ]
     },
     "execution_count": 8,
     "metadata": {},
     "output_type": "execute_result"
    }
   ],
   "source": [
    "uci[(uci['n'] >= 200) & (uci['num_classes'] >= 2)].sort_values('n')"
   ]
  },
  {
   "cell_type": "code",
   "execution_count": 9,
   "metadata": {},
   "outputs": [
    {
     "data": {
      "text/plain": [
       "0.9611041405269761"
      ]
     },
     "execution_count": 9,
     "metadata": {},
     "output_type": "execute_result"
    }
   ],
   "source": [
    "get_acc('molec-biol-splice')"
   ]
  },
  {
   "cell_type": "code",
   "execution_count": 10,
   "metadata": {},
   "outputs": [],
   "source": [
    "def joint_density(Y, L, nY=None, nL=None):\n",
    "    if nY is None or nL is None:\n",
    "        nY=np.max(Y)+1\n",
    "        nL=np.max(L)+1\n",
    "        \n",
    "    C = np.zeros((nY, nL))\n",
    "    for yhat, ell in zip(Y, L):\n",
    "        C[yhat, ell] += 1\n",
    "    C /= np.sum(C)\n",
    "    return C\n",
    "\n",
    "def apply_noise(Y, confusion_matx):\n",
    "    C = torch.Tensor(confusion_matx)  # C[i, j] = Pr[j --> i]\n",
    "    Y_new = np.empty_like(Y)\n",
    "    for i in range(len(Y)):\n",
    "        y = Y[i]\n",
    "        p = C[:, y]\n",
    "        yNew = torch.distributions.categorical.Categorical(probs=p).sample()\n",
    "        Y_new[i] = yNew\n",
    "    return Y_new\n",
    "\n",
    "def train_uci_conf(name, C):\n",
    "    d = load_uci(name) \n",
    "    X = d['X']\n",
    "    y = d['y']\n",
    "    n = d['n']\n",
    "    I_tr = d['train_fold']\n",
    "    I_te = d['test_fold']\n",
    "    X_tr, y_tr = X[I_tr], y[I_tr]\n",
    "    X_te, y_te = X[I_te], y[I_te]\n",
    "    nc = d['num_classes']\n",
    "    \n",
    "    y_tr_orig = np.copy(y_tr)\n",
    "    y_tr = apply_noise(y_tr_orig, C)\n",
    "\n",
    "    f = train(X_tr, y_tr)\n",
    "    predsTe = f.predict(X_te)\n",
    "    predsTr = f.predict(X_tr)\n",
    "    \n",
    "    cm_tr = joint_density(predsTr, y_tr_orig, nY=nc,nL=nc)\n",
    "    cm_tr_ideal = joint_density(y_tr, y_tr_orig,nY=nc,nL=nc)\n",
    "    cm_te = joint_density(predsTe, y_te,nY=nc,nL=nc)\n",
    "\n",
    "    res = dict(cm_tr=cm_tr, cm_tr_ideal=cm_tr_ideal, cm_te=cm_te)\n",
    "    return res"
   ]
  },
  {
   "cell_type": "code",
   "execution_count": 11,
   "metadata": {},
   "outputs": [
    {
     "data": {
      "text/plain": [
       "Text(0.5, 1.0, 'Joint Density (Test)')"
      ]
     },
     "execution_count": 11,
     "metadata": {},
     "output_type": "execute_result"
    },
    {
     "data": {
      "image/png": "[encoded data removed]",
      "text/plain": [
       "<Figure size 432x432 with 2 Axes>"
      ]
     },
     "metadata": {
      "needs_background": "light"
     },
     "output_type": "display_data"
    },
    {
     "data": {
      "image/png": "[encoded data removed]",
      "text/plain": [
       "<Figure size 432x432 with 2 Axes>"
      ]
     },
     "metadata": {
      "needs_background": "light"
     },
     "output_type": "display_data"
    }
   ],
   "source": [
    "# C = np.eye(3) # C[i, j] = Pr[j --> i]\n",
    "# C[2, 2] = 0.7\n",
    "# C[1, 2] = 0.3\n",
    "# C[0, 2] = 0.0\n",
    "# res = train_uci_conf('molec-biol-splice', C)\n",
    "\n",
    "# C = np.eye(3)\n",
    "# C[1, 1] = 0.7\n",
    "# C[2, 1] = 0.3\n",
    "# res = train_uci_conf('wine', C)\n",
    "\n",
    "\n",
    "C = np.eye(2) # C[i, j] = Pr[j --> i]\n",
    "C[0,0] = 0.7\n",
    "C[1,0] = 0.3\n",
    "res = train_uci_conf('mushroom', C)\n",
    "\n",
    "fig, ax = plt.subplots(figsize=(6, 6))\n",
    "disp = ConfusionMatrixDisplay(res['cm_tr_ideal'].T, display_labels=map(str, range(C.shape[0])))\n",
    "disp.plot(ax=ax)\n",
    "ax.set_title('Joint Density (Ideal Train)')\n",
    "\n",
    "fig, ax = plt.subplots(figsize=(6, 6))\n",
    "disp = ConfusionMatrixDisplay(res['cm_te'].T, display_labels=map(str, range(C.shape[0])))\n",
    "disp.plot(ax=ax)\n",
    "ax.set_title('Joint Density (Test)')"
   ]
  },
  {
   "cell_type": "code",
   "execution_count": 12,
   "metadata": {},
   "outputs": [],
   "source": [
    "def getC(p=0.3):\n",
    "    # C[i, j] = Pr[j --> i]\n",
    "    C = np.eye(3)\n",
    "    C[2, 2] = (1-p)\n",
    "    C[1, 2] = p\n",
    "    C[0, 2] = 0.0\n",
    "    return C\n",
    "\n",
    "# ps = np.linspace(0, 1.0, 5)\n",
    "ps = np.linspace(0, 1.0, 11)\n",
    "uname = 'molec-biol-splice'\n",
    "    \n",
    "allres = []\n",
    "for i, p in enumerate(ps):\n",
    "    C = getC(p)\n",
    "    res = train_uci_conf(uname, C)\n",
    "    res['p'] = p\n",
    "    allres.append(res)\n",
    "    \n",
    "gsave(allres, f'gs://ANONYMOUS/results/nde/uci/conf_rf/{uname}_many')"
   ]
  },
  {
   "cell_type": "code",
   "execution_count": 13,
   "metadata": {},
   "outputs": [],
   "source": [
    "# ps = np.linspace(0, 1.0, 5)\n",
    "ps = np.linspace(0, 1.0, 11)\n",
    "uname = 'wine'\n",
    "\n",
    "def getC(p=0.3):\n",
    "    # C[i, j] = Pr[j --> i]\n",
    "    C = np.eye(3)\n",
    "    C[1, 1] = (1-p)\n",
    "    C[2, 1] = p\n",
    "    return C\n",
    "\n",
    "    \n",
    "allres = []\n",
    "for i, p in enumerate(ps):\n",
    "    C = getC(p)\n",
    "    res = train_uci_conf(uname, C)\n",
    "    res['p'] = p\n",
    "    allres.append(res)\n",
    "    \n",
    "gsave(allres, f'gs://ANONYMOUS/results/nde/uci/conf_rf/{uname}_many')"
   ]
  },
  {
   "cell_type": "code",
   "execution_count": 14,
   "metadata": {},
   "outputs": [],
   "source": [
    "# ps = np.linspace(0, 1.0, 5)\n",
    "ps = np.linspace(0, 1.0, 11)\n",
    "uname = 'mushroom'\n",
    "\n",
    "def getC(p=0.3):\n",
    "    # C[i, j] = Pr[j --> i]\n",
    "    C = np.eye(2)\n",
    "    C[0,0] = (1-p)\n",
    "    C[1,0] = p\n",
    "    return C\n",
    "\n",
    "allres = []\n",
    "for i, p in enumerate(ps):\n",
    "    C = getC(p)\n",
    "    res = train_uci_conf(uname, C)\n",
    "    res['p'] = p\n",
    "    allres.append(res)\n",
    "    \n",
    "gsave(allres, f'gs://ANONYMOUS/results/nde/uci/conf_rf/{uname}_many')"
   ]
  },
  {
   "cell_type": "code",
   "execution_count": 16,
   "metadata": {},
   "outputs": [
    {
     "data": {
      "text/html": [
       "<div>\n",
       "<style scoped>\n",
       "    .dataframe tbody tr th:only-of-type {\n",
       "        vertical-align: middle;\n",
       "    }\n",
       "\n",
       "    .dataframe tbody tr th {\n",
       "        vertical-align: top;\n",
       "    }\n",
       "\n",
       "    .dataframe thead th {\n",
       "        text-align: right;\n",
       "    }\n",
       "</style>\n",
       "<table border=\"1\" class=\"dataframe\">\n",
       "  <thead>\n",
       "    <tr style=\"text-align: right;\">\n",
       "      <th></th>\n",
       "      <th>name</th>\n",
       "      <th>n</th>\n",
       "      <th>num_classes</th>\n",
       "      <th>num_features</th>\n",
       "    </tr>\n",
       "  </thead>\n",
       "  <tbody>\n",
       "    <tr>\n",
       "      <th>116</th>\n",
       "      <td>wine</td>\n",
       "      <td>178</td>\n",
       "      <td>3</td>\n",
       "      <td>13</td>\n",
       "    </tr>\n",
       "  </tbody>\n",
       "</table>\n",
       "</div>"
      ],
      "text/plain": [
       "     name    n  num_classes  num_features\n",
       "116  wine  178            3            13"
      ]
     },
     "execution_count": 16,
     "metadata": {},
     "output_type": "execute_result"
    }
   ],
   "source": [
    "uci[uci['name'] == 'wine']"
   ]
  },
  {
   "cell_type": "code",
   "execution_count": null,
   "metadata": {},
   "outputs": [],
   "source": []
  }
 ],
 "metadata": {
  "kernelspec": {
   "display_name": "Python 3",
   "language": "python",
   "name": "python3"
  },
  "language_info": {
   "codemirror_mode": {
    "name": "ipython",
    "version": 3
   },
   "file_extension": ".py",
   "mimetype": "text/x-python",
   "name": "python",
   "nbconvert_exporter": "python",
   "pygments_lexer": "ipython3",
   "version": "3.7.4"
  }
 },
 "nbformat": 4,
 "nbformat_minor": 2
}
