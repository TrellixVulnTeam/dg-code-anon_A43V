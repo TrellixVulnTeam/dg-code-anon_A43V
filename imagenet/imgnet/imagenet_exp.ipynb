{
 "cells": [
  {
   "cell_type": "code",
   "execution_count": 1,
   "metadata": {},
   "outputs": [],
   "source": [
    "%load_ext autoreload\n",
    "%autoreload 2\n",
    "import numpy as np\n",
    "import pylab as plt\n",
    "from common import gsave, gload\n",
    "import pandas as pd\n",
    "\n",
    "from imagenet_helpers import ImageNetHierarchy"
   ]
  },
  {
   "cell_type": "code",
   "execution_count": 2,
   "metadata": {},
   "outputs": [
    {
     "data": {
      "text/plain": [
       "((50000,), (50000,))"
      ]
     },
     "execution_count": 2,
     "metadata": {},
     "output_type": "execute_result"
    }
   ],
   "source": [
    "f = np.load('resnet50.npy')[:, 0]\n",
    "y = np.load('val_labels.npy')\n",
    "f.shape, y.shape"
   ]
  },
  {
   "cell_type": "code",
   "execution_count": 3,
   "metadata": {},
   "outputs": [
    {
     "name": "stdout",
     "output_type": "stream",
     "text": [
      "ImageNet accuracy: 0.7613\n"
     ]
    }
   ],
   "source": [
    "print('ImageNet accuracy:', (f == y).mean())"
   ]
  },
  {
   "cell_type": "code",
   "execution_count": 4,
   "metadata": {},
   "outputs": [],
   "source": [
    "net = ImageNetHierarchy('./', './')"
   ]
  },
  {
   "cell_type": "code",
   "execution_count": 5,
   "metadata": {},
   "outputs": [],
   "source": [
    "all_dog_wnlabels = []\n",
    "for wnid in net.tree['n02084071'].descendants_all: ## dog\n",
    "    #print(f\"Subclass | WordNet ID: {wnid}, Name: {net.wnid_to_name[wnid]}\")\n",
    "    all_dog_wnlabels.append(wnid)\n",
    "    \n",
    "# https://gist.githubusercontent.com/fnielsen/4a5c94eaa6dcdf29b7a62d886f540372/raw/d25516d26be4a8d3e0aeebe9275631754b8e2c73/imagenet_label_to_wordnet_synset.txt\n",
    "with open('imagenet_label_to_wordnet_synset.txt') as file:\n",
    "    label_to_wordnet = eval(file.read())\n",
    "    \n",
    "valid_wnids = { 'n'+v['id'][:-2] for k, v in label_to_wordnet.items() } # all wordnet ids that are imagenet labels\n",
    "wnid_to_label = { 'n'+v['id'][:-2] : k for k, v in  label_to_wordnet.items()  }\n",
    "\n",
    "imagenet_dogs = { wnid_to_label[d] for d in all_dog_wnlabels if d in valid_wnids } # imagenet labels that are dogs\n",
    "imagenet_dogs = list(imagenet_dogs)\n",
    "\n",
    "## terriers\n",
    "terrier_wnids = net.tree['n02092468'].descendants_all\n",
    "imagenet_terriers = list({ wnid_to_label[d] for d in terrier_wnids if d in valid_wnids })\n",
    "\n",
    "## retriever\n",
    "# terrier_wnids = net.tree['n02093056'].descendants_all\n",
    "# imagenet_terriers = list({ wnid_to_label[d] for d in terrier_wnids if d in valid_wnids })"
   ]
  },
  {
   "cell_type": "code",
   "execution_count": 6,
   "metadata": {},
   "outputs": [],
   "source": [
    "f = np.load('alexnet.npy')[:, 0]\n",
    "y = np.load('val_labels.npy')\n",
    "f.shape, y.shape\n",
    "\n",
    "L_dog = np.isin(y, imagenet_dogs)\n",
    "f_dog = np.isin(f, imagenet_dogs)\n",
    "\n",
    "L_terr = np.isin(y, imagenet_terriers)\n",
    "f_terr = np.isin(f, imagenet_terriers)"
   ]
  },
  {
   "cell_type": "code",
   "execution_count": 7,
   "metadata": {},
   "outputs": [
    {
     "name": "stdout",
     "output_type": "stream",
     "text": [
      "Fraction of dogs: 0.116\n",
      "Types of dogs: 116\n",
      "Types of terriers: 26\n",
      "---\n",
      "ImageNet accuracy: 0.56518\n",
      "> Accuracy on dogs: 0.5882758620689655\n",
      "> Accuracy on terriers: 0.5723076923076923\n",
      "Accuracy for binary {dog/not-dog}: 0.98428\n",
      "Accuracy on {terrier/not-terrier} restricted to Dogs: 0.9129310344827586\n",
      "---\n",
      "Fraction of real Terriers / Test-Dogs :  0.22413793103448276\n",
      "Fraction of output Terriers / Test-Dogs:  0.20913793103448275\n"
     ]
    }
   ],
   "source": [
    "print('Fraction of dogs:', L_dog.mean())\n",
    "print('Types of dogs:', len(imagenet_dogs))\n",
    "print('Types of terriers:', len(imagenet_terriers))\n",
    "print('---')\n",
    "print('ImageNet accuracy:', (f == y).mean())\n",
    "print('> Accuracy on dogs:', (f[L_dog] == y[L_dog]).mean())\n",
    "print('> Accuracy on terriers:', (f[L_terr] == y[L_terr]).mean())\n",
    "print('Accuracy for binary {dog/not-dog}:', (f_dog == L_dog).mean())\n",
    "print('Accuracy on {terrier/not-terrier} restricted to Dogs:', (f_terr[L_dog] == L_terr[L_dog]).mean())\n",
    "print('---')\n",
    "print('Fraction of real Terriers / Test-Dogs : ', L_terr[L_dog].sum() / L_dog.sum())\n",
    "print('Fraction of output Terriers / Test-Dogs: ', f_terr[L_dog].sum() / L_dog.sum())"
   ]
  },
  {
   "cell_type": "code",
   "execution_count": 8,
   "metadata": {},
   "outputs": [],
   "source": [
    "def get_rec(fname, name):\n",
    "    f = np.load(fname)[:, 0]\n",
    "    y = np.load('val_labels.npy')\n",
    "\n",
    "    L_dog = np.isin(y, imagenet_dogs)\n",
    "    f_dog = np.isin(f, imagenet_dogs)\n",
    "\n",
    "    L_terr = np.isin(y, imagenet_terriers)\n",
    "    f_terr = np.isin(f, imagenet_terriers)\n",
    "    \n",
    "    rec = {\n",
    "        'Model' : name,\n",
    "        'ImageNet Accuracy' : (f == y).mean(),\n",
    "        'Accuracy on dogs' : (f[L_dog] == y[L_dog]).mean(),\n",
    "        'Accuracy on terriers': (f[L_terr] == y[L_terr]).mean(),\n",
    "        'Accuracy for binary {dog/not-dog}' : (f_dog == L_dog).mean(),\n",
    "        'Accuracy on {terrier/not-terrier} among dogs': (f_terr[L_dog] == L_terr[L_dog]).mean(),\n",
    "        'Fraction of real-terriers among dogs' : L_terr[L_dog].sum() / L_dog.sum(),\n",
    "        'Fraction of predicted-terriers among dogs' : f_terr[L_dog].sum() / L_dog.sum()\n",
    "    }\n",
    "    return rec\n",
    "\n",
    "todo = [('alexnet.npy', 'AlexNet'),\n",
    "        ('resnet18.npy', 'ResNet18'),\n",
    "        ('resnet50.npy', 'ResNet50'),\n",
    "        ('bagnet8.npy', 'BagNet8'),\n",
    "        ('bagnet32.npy', 'BagNet32')]\n",
    "\n",
    "#get_rec(*todo[-1])\n",
    "\n",
    "df = pd.DataFrame([get_rec(f, n) for f, n in todo])"
   ]
  },
  {
   "cell_type": "code",
   "execution_count": 9,
   "metadata": {
    "scrolled": true
   },
   "outputs": [
    {
     "data": {
      "text/html": [
       "<div>\n",
       "<style scoped>\n",
       "    .dataframe tbody tr th:only-of-type {\n",
       "        vertical-align: middle;\n",
       "    }\n",
       "\n",
       "    .dataframe tbody tr th {\n",
       "        vertical-align: top;\n",
       "    }\n",
       "\n",
       "    .dataframe thead th {\n",
       "        text-align: right;\n",
       "    }\n",
       "</style>\n",
       "<table border=\"1\" class=\"dataframe\">\n",
       "  <thead>\n",
       "    <tr style=\"text-align: right;\">\n",
       "      <th></th>\n",
       "      <th>Model</th>\n",
       "      <th>ImageNet Accuracy</th>\n",
       "      <th>Accuracy on dogs</th>\n",
       "      <th>Accuracy on terriers</th>\n",
       "      <th>Accuracy for binary {dog/not-dog}</th>\n",
       "      <th>Accuracy on {terrier/not-terrier} among dogs</th>\n",
       "      <th>Fraction of real-terriers among dogs</th>\n",
       "      <th>Fraction of predicted-terriers among dogs</th>\n",
       "    </tr>\n",
       "  </thead>\n",
       "  <tbody>\n",
       "    <tr>\n",
       "      <th>0</th>\n",
       "      <td>AlexNet</td>\n",
       "      <td>0.56518</td>\n",
       "      <td>0.588276</td>\n",
       "      <td>0.572308</td>\n",
       "      <td>0.98428</td>\n",
       "      <td>0.912931</td>\n",
       "      <td>0.224138</td>\n",
       "      <td>0.209138</td>\n",
       "    </tr>\n",
       "    <tr>\n",
       "      <th>1</th>\n",
       "      <td>ResNet18</td>\n",
       "      <td>0.69758</td>\n",
       "      <td>0.728966</td>\n",
       "      <td>0.703846</td>\n",
       "      <td>0.99334</td>\n",
       "      <td>0.955345</td>\n",
       "      <td>0.224138</td>\n",
       "      <td>0.221897</td>\n",
       "    </tr>\n",
       "    <tr>\n",
       "      <th>2</th>\n",
       "      <td>ResNet50</td>\n",
       "      <td>0.76130</td>\n",
       "      <td>0.792931</td>\n",
       "      <td>0.774615</td>\n",
       "      <td>0.99600</td>\n",
       "      <td>0.968793</td>\n",
       "      <td>0.224138</td>\n",
       "      <td>0.228793</td>\n",
       "    </tr>\n",
       "    <tr>\n",
       "      <th>3</th>\n",
       "      <td>BagNet8</td>\n",
       "      <td>0.46386</td>\n",
       "      <td>0.461724</td>\n",
       "      <td>0.420769</td>\n",
       "      <td>0.97212</td>\n",
       "      <td>0.875517</td>\n",
       "      <td>0.224138</td>\n",
       "      <td>0.192414</td>\n",
       "    </tr>\n",
       "    <tr>\n",
       "      <th>4</th>\n",
       "      <td>BagNet32</td>\n",
       "      <td>0.66664</td>\n",
       "      <td>0.700517</td>\n",
       "      <td>0.659231</td>\n",
       "      <td>0.99222</td>\n",
       "      <td>0.943793</td>\n",
       "      <td>0.224138</td>\n",
       "      <td>0.215172</td>\n",
       "    </tr>\n",
       "  </tbody>\n",
       "</table>\n",
       "</div>"
      ],
      "text/plain": [
       "      Model  ImageNet Accuracy  Accuracy on dogs  Accuracy on terriers  \\\n",
       "0   AlexNet            0.56518          0.588276              0.572308   \n",
       "1  ResNet18            0.69758          0.728966              0.703846   \n",
       "2  ResNet50            0.76130          0.792931              0.774615   \n",
       "3   BagNet8            0.46386          0.461724              0.420769   \n",
       "4  BagNet32            0.66664          0.700517              0.659231   \n",
       "\n",
       "   Accuracy for binary {dog/not-dog}  \\\n",
       "0                            0.98428   \n",
       "1                            0.99334   \n",
       "2                            0.99600   \n",
       "3                            0.97212   \n",
       "4                            0.99222   \n",
       "\n",
       "   Accuracy on {terrier/not-terrier} among dogs  \\\n",
       "0                                      0.912931   \n",
       "1                                      0.955345   \n",
       "2                                      0.968793   \n",
       "3                                      0.875517   \n",
       "4                                      0.943793   \n",
       "\n",
       "   Fraction of real-terriers among dogs  \\\n",
       "0                              0.224138   \n",
       "1                              0.224138   \n",
       "2                              0.224138   \n",
       "3                              0.224138   \n",
       "4                              0.224138   \n",
       "\n",
       "   Fraction of predicted-terriers among dogs  \n",
       "0                                   0.209138  \n",
       "1                                   0.221897  \n",
       "2                                   0.228793  \n",
       "3                                   0.192414  \n",
       "4                                   0.215172  "
      ]
     },
     "execution_count": 9,
     "metadata": {},
     "output_type": "execute_result"
    }
   ],
   "source": [
    "df"
   ]
  },
  {
   "cell_type": "code",
   "execution_count": 10,
   "metadata": {},
   "outputs": [
    {
     "name": "stdout",
     "output_type": "stream",
     "text": [
      "\\begin{tabular}{lrrrrrrr}\n",
      "\\toprule\n",
      "    Model &  ImageNet Accuracy &  Accuracy on dogs &  Accuracy on terriers &  Accuracy for binary \\{dog/not-dog\\} &  Accuracy on \\{terrier/not-terrier\\} among dogs &  Fraction of real-terriers among dogs &  Fraction of predicted-terriers among dogs \\\\\n",
      "\\midrule\n",
      "  AlexNet &              0.565 &             0.588 &                 0.572 &                              0.984 &                                         0.913 &                                 0.224 &                                      0.209 \\\\\n",
      " ResNet18 &              0.698 &             0.729 &                 0.704 &                              0.993 &                                         0.955 &                                 0.224 &                                      0.222 \\\\\n",
      " ResNet50 &              0.761 &             0.793 &                 0.775 &                              0.996 &                                         0.969 &                                 0.224 &                                      0.229 \\\\\n",
      "  BagNet8 &              0.464 &             0.462 &                 0.421 &                              0.972 &                                         0.876 &                                 0.224 &                                      0.192 \\\\\n",
      " BagNet32 &              0.667 &             0.701 &                 0.659 &                              0.992 &                                         0.944 &                                 0.224 &                                      0.215 \\\\\n",
      "\\bottomrule\n",
      "\\end{tabular}\n",
      "\n"
     ]
    }
   ],
   "source": [
    "print(df.to_latex(index=False, float_format=\"%.3f\"))"
   ]
  },
  {
   "cell_type": "code",
   "execution_count": 11,
   "metadata": {},
   "outputs": [
    {
     "data": {
      "text/html": [
       "<div>\n",
       "<style scoped>\n",
       "    .dataframe tbody tr th:only-of-type {\n",
       "        vertical-align: middle;\n",
       "    }\n",
       "\n",
       "    .dataframe tbody tr th {\n",
       "        vertical-align: top;\n",
       "    }\n",
       "\n",
       "    .dataframe thead th {\n",
       "        text-align: right;\n",
       "    }\n",
       "</style>\n",
       "<table border=\"1\" class=\"dataframe\">\n",
       "  <thead>\n",
       "    <tr style=\"text-align: right;\">\n",
       "      <th>Model</th>\n",
       "      <th>AlexNet</th>\n",
       "      <th>ResNet18</th>\n",
       "      <th>ResNet50</th>\n",
       "      <th>BagNet8</th>\n",
       "      <th>BagNet32</th>\n",
       "    </tr>\n",
       "  </thead>\n",
       "  <tbody>\n",
       "    <tr>\n",
       "      <th>ImageNet Accuracy</th>\n",
       "      <td>0.565180</td>\n",
       "      <td>0.697580</td>\n",
       "      <td>0.761300</td>\n",
       "      <td>0.463860</td>\n",
       "      <td>0.666640</td>\n",
       "    </tr>\n",
       "    <tr>\n",
       "      <th>Accuracy on dogs</th>\n",
       "      <td>0.588276</td>\n",
       "      <td>0.728966</td>\n",
       "      <td>0.792931</td>\n",
       "      <td>0.461724</td>\n",
       "      <td>0.700517</td>\n",
       "    </tr>\n",
       "    <tr>\n",
       "      <th>Accuracy on terriers</th>\n",
       "      <td>0.572308</td>\n",
       "      <td>0.703846</td>\n",
       "      <td>0.774615</td>\n",
       "      <td>0.420769</td>\n",
       "      <td>0.659231</td>\n",
       "    </tr>\n",
       "    <tr>\n",
       "      <th>Accuracy for binary {dog/not-dog}</th>\n",
       "      <td>0.984280</td>\n",
       "      <td>0.993340</td>\n",
       "      <td>0.996000</td>\n",
       "      <td>0.972120</td>\n",
       "      <td>0.992220</td>\n",
       "    </tr>\n",
       "    <tr>\n",
       "      <th>Accuracy on {terrier/not-terrier} among dogs</th>\n",
       "      <td>0.912931</td>\n",
       "      <td>0.955345</td>\n",
       "      <td>0.968793</td>\n",
       "      <td>0.875517</td>\n",
       "      <td>0.943793</td>\n",
       "    </tr>\n",
       "    <tr>\n",
       "      <th>Fraction of real-terriers among dogs</th>\n",
       "      <td>0.224138</td>\n",
       "      <td>0.224138</td>\n",
       "      <td>0.224138</td>\n",
       "      <td>0.224138</td>\n",
       "      <td>0.224138</td>\n",
       "    </tr>\n",
       "    <tr>\n",
       "      <th>Fraction of predicted-terriers among dogs</th>\n",
       "      <td>0.209138</td>\n",
       "      <td>0.221897</td>\n",
       "      <td>0.228793</td>\n",
       "      <td>0.192414</td>\n",
       "      <td>0.215172</td>\n",
       "    </tr>\n",
       "  </tbody>\n",
       "</table>\n",
       "</div>"
      ],
      "text/plain": [
       "Model                                          AlexNet  ResNet18  ResNet50  \\\n",
       "ImageNet Accuracy                             0.565180  0.697580  0.761300   \n",
       "Accuracy on dogs                              0.588276  0.728966  0.792931   \n",
       "Accuracy on terriers                          0.572308  0.703846  0.774615   \n",
       "Accuracy for binary {dog/not-dog}             0.984280  0.993340  0.996000   \n",
       "Accuracy on {terrier/not-terrier} among dogs  0.912931  0.955345  0.968793   \n",
       "Fraction of real-terriers among dogs          0.224138  0.224138  0.224138   \n",
       "Fraction of predicted-terriers among dogs     0.209138  0.221897  0.228793   \n",
       "\n",
       "Model                                          BagNet8  BagNet32  \n",
       "ImageNet Accuracy                             0.463860  0.666640  \n",
       "Accuracy on dogs                              0.461724  0.700517  \n",
       "Accuracy on terriers                          0.420769  0.659231  \n",
       "Accuracy for binary {dog/not-dog}             0.972120  0.992220  \n",
       "Accuracy on {terrier/not-terrier} among dogs  0.875517  0.943793  \n",
       "Fraction of real-terriers among dogs          0.224138  0.224138  \n",
       "Fraction of predicted-terriers among dogs     0.192414  0.215172  "
      ]
     },
     "execution_count": 11,
     "metadata": {},
     "output_type": "execute_result"
    }
   ],
   "source": [
    "df.set_index('Model').T"
   ]
  },
  {
   "cell_type": "code",
   "execution_count": 12,
   "metadata": {},
   "outputs": [
    {
     "name": "stdout",
     "output_type": "stream",
     "text": [
      "\\begin{tabular}{lrrrrr}\n",
      "\\toprule\n",
      "Model &  AlexNet &  ResNet18 &  ResNet50 &  BagNet8 &  BagNet32 \\\\\n",
      "\\midrule\n",
      "ImageNet Accuracy                            &    0.565 &     0.698 &     0.761 &    0.464 &     0.667 \\\\\n",
      "Accuracy on dogs                             &    0.588 &     0.729 &     0.793 &    0.462 &     0.701 \\\\\n",
      "Accuracy on terriers                         &    0.572 &     0.704 &     0.775 &    0.421 &     0.659 \\\\\n",
      "Accuracy for binary \\{dog/not-dog\\}            &    0.984 &     0.993 &     0.996 &    0.972 &     0.992 \\\\\n",
      "Accuracy on \\{terrier/not-terrier\\} among dogs &    0.913 &     0.955 &     0.969 &    0.876 &     0.944 \\\\\n",
      "Fraction of real-terriers among dogs         &    0.224 &     0.224 &     0.224 &    0.224 &     0.224 \\\\\n",
      "Fraction of predicted-terriers among dogs    &    0.209 &     0.222 &     0.229 &    0.192 &     0.215 \\\\\n",
      "\\bottomrule\n",
      "\\end{tabular}\n",
      "\n"
     ]
    }
   ],
   "source": [
    "print(df.set_index('Model').T.to_latex(index=True, float_format=\"%.3f\"))"
   ]
  },
  {
   "cell_type": "code",
   "execution_count": 19,
   "metadata": {},
   "outputs": [
    {
     "name": "stdout",
     "output_type": "stream",
     "text": [
      "\\begin{tabular}{lrr}\n",
      "\\toprule\n",
      "Model &  AlexNet &  ResNet50 \\\\\n",
      "\\midrule\n",
      "ImageNet Accuracy                            &    0.565 &     0.761 \\\\\n",
      "Accuracy on dogs                             &    0.588 &     0.793 \\\\\n",
      "Accuracy on terriers                         &    0.572 &     0.775 \\\\\n",
      "Accuracy for binary \\{dog/not-dog\\}            &    0.984 &     0.996 \\\\\n",
      "Accuracy on \\{terrier/not-terrier\\} among dogs &    0.913 &     0.969 \\\\\n",
      "Fraction of real-terriers among dogs         &    0.224 &     0.224 \\\\\n",
      "Fraction of predicted-terriers among dogs    &    0.209 &     0.229 \\\\\n",
      "\\bottomrule\n",
      "\\end{tabular}\n",
      "\n"
     ]
    }
   ],
   "source": [
    "print(df.set_index('Model').T[['AlexNet', 'ResNet50']].to_latex(index=True, float_format=\"%.3f\"))"
   ]
  },
  {
   "cell_type": "code",
   "execution_count": null,
   "metadata": {},
   "outputs": [],
   "source": []
  }
 ],
 "metadata": {
  "kernelspec": {
   "display_name": "Python 3",
   "language": "python",
   "name": "python3"
  },
  "language_info": {
   "codemirror_mode": {
    "name": "ipython",
    "version": 3
   },
   "file_extension": ".py",
   "mimetype": "text/x-python",
   "name": "python",
   "nbconvert_exporter": "python",
   "pygments_lexer": "ipython3",
   "version": "3.7.4"
  }
 },
 "nbformat": 4,
 "nbformat_minor": 2
}
