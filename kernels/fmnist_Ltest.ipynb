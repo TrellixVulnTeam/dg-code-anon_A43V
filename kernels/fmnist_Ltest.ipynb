{
 "cells": [
  {
   "cell_type": "code",
   "execution_count": 1,
   "metadata": {},
   "outputs": [],
   "source": [
    "import numpy as np\n",
    "import pylab as plt\n",
    "import torch\n",
    "from tqdm.auto import tqdm\n",
    "import scipy.linalg\n",
    "import pandas as pd\n",
    "import torchvision.datasets as dst\n",
    "\n",
    "from common import gsave, gload\n",
    "from nde.kernels import load_fmnist_all, KernelPredictor, KernelType"
   ]
  },
  {
   "cell_type": "code",
   "execution_count": 2,
   "metadata": {},
   "outputs": [],
   "source": [
    "X, Y = load_fmnist_all()\n",
    "ker = KernelPredictor(X, Y)"
   ]
  },
  {
   "cell_type": "code",
   "execution_count": 3,
   "metadata": {},
   "outputs": [],
   "source": [
    "CLOTH, SHOE, BAG = 0, 1, 2\n",
    "\n",
    "Lmap = {\n",
    "    0: CLOTH,\n",
    "    1: CLOTH, # bottom\n",
    "    2: CLOTH,\n",
    "    3: CLOTH,\n",
    "    4: CLOTH,\n",
    "    5: SHOE,\n",
    "    6: CLOTH,\n",
    "    7: SHOE,\n",
    "    8: BAG,\n",
    "    9: SHOE\n",
    "}\n",
    "\n",
    "L = np.array([Lmap[y] for y in Y], dtype=int)"
   ]
  },
  {
   "cell_type": "code",
   "execution_count": 4,
   "metadata": {},
   "outputs": [
    {
     "name": "stdout",
     "output_type": "stream",
     "text": [
      "L-acc: 0.9878\n",
      "Y-acc: 0.8488\n"
     ]
    }
   ],
   "source": [
    "ntr = 5000\n",
    "I_tr = list(range(0, ntr))\n",
    "I_te = list(range(60000, 70000))\n",
    "ktype = KernelType.GAUSSIAN\n",
    "sigma=0.1\n",
    "\n",
    "Kte = ker.d_to_K(ker.D[I_te, :][:, I_tr], ktype, sigma)\n",
    "Ktr = ker.d_to_K(ker.D[I_tr, :][:, I_tr], ktype, sigma)\n",
    "\n",
    "y_tr = ker.y[I_tr]\n",
    "y_te = ker.y[I_te]\n",
    "\n",
    "def train(y_tr, nc=10):\n",
    "    Y = np.eye(nc)[y_tr]\n",
    "    model = scipy.linalg.solve(Ktr, Y, sym_pos=True, check_finite=False)\n",
    "    yhats = Kte.dot(model)\n",
    "    preds = np.argmax(yhats, axis=1)\n",
    "    return preds\n",
    "\n",
    "preds = train(L[I_tr], nc = 3)\n",
    "print('L-acc:', (preds == L[I_te]).mean())\n",
    "\n",
    "preds = train(ker.y[I_tr], nc = 10)\n",
    "print('Y-acc:', (preds == ker.y[I_te]).mean())"
   ]
  },
  {
   "cell_type": "code",
   "execution_count": 5,
   "metadata": {},
   "outputs": [],
   "source": [
    "def joint_density(Y, L, nY=None, nL=None):\n",
    "    '''\n",
    "        Estimates the joint density of (Y, L)\n",
    "        where Y \\in [nY],  L \\in [nL].\n",
    "\n",
    "        In other words, returns the confusion matrix.\n",
    "    '''\n",
    "    if nL is None or nY is None:\n",
    "        nY=np.max(Y)+1\n",
    "        nL=np.max(L)+1\n",
    "        \n",
    "    C = np.zeros((nY, nL))\n",
    "    for yhat, ell in zip(Y, L):\n",
    "        C[yhat, ell] += 1\n",
    "    C /= np.sum(C)\n",
    "    return C"
   ]
  },
  {
   "cell_type": "code",
   "execution_count": 8,
   "metadata": {},
   "outputs": [
    {
     "data": {
      "image/png": "[encoded data removed]",
      "text/plain": [
       "<Figure size 1440x720 with 2 Axes>"
      ]
     },
     "metadata": {
      "needs_background": "light"
     },
     "output_type": "display_data"
    }
   ],
   "source": [
    "fig, axs = plt.subplots(2, 1, figsize=(20, 10))\n",
    "\n",
    "cm_tr = joint_density(y_tr, L[I_tr], nY=10, nL=3)\n",
    "cm_te = joint_density(preds, L[I_te], nY=10, nL=3)\n",
    "\n",
    "gsave(dict(cm_tr=cm_tr, cm_te=cm_te), 'gs://ANONYMOUS/results/nde/kernels/conf/fmnist3/gauss_n5000_s0.1')\n",
    "\n",
    "# plot_confusion(cm_tr, ax=axs[0], display_labels=None)\n",
    "# axs[0].set_title(f'Joint Density (Train).');\n",
    "# plot_confusion(cm_te, ax=axs[1], display_labels=None)\n",
    "# axs[1].set_title(f'Joint Density (Test).');\n",
    "\n",
    "axs[0].imshow(cm_tr)\n",
    "axs[0].set_title(f'Joint Density (Train).');\n",
    "\n",
    "axs[1].imshow(cm_te)\n",
    "axs[1].set_title(f'Joint Density (Test).');"
   ]
  },
  {
   "cell_type": "code",
   "execution_count": 1,
   "metadata": {},
   "outputs": [
    {
     "ename": "NameError",
     "evalue": "name 'cm_tr' is not defined",
     "output_type": "error",
     "traceback": [
      "\u001b[0;31m---------------------------------------------------------------------------\u001b[0m",
      "\u001b[0;31mNameError\u001b[0m                                 Traceback (most recent call last)",
      "\u001b[0;32m<ipython-input-1-edfb6a414df6>\u001b[0m in \u001b[0;36m<module>\u001b[0;34m\u001b[0m\n\u001b[0;32m----> 1\u001b[0;31m \u001b[0mprint\u001b[0m\u001b[0;34m(\u001b[0m\u001b[0mcm_tr\u001b[0m\u001b[0;34m)\u001b[0m\u001b[0;34m\u001b[0m\u001b[0;34m\u001b[0m\u001b[0m\n\u001b[0m",
      "\u001b[0;31mNameError\u001b[0m: name 'cm_tr' is not defined"
     ]
    }
   ],
   "source": [
    "print(cm_tr)"
   ]
  },
  {
   "cell_type": "code",
   "execution_count": 21,
   "metadata": {},
   "outputs": [
    {
     "name": "stdout",
     "output_type": "stream",
     "text": [
      "[[9.800e-02 1.000e-04 2.000e-04]\n",
      " [9.660e-02 0.000e+00 0.000e+00]\n",
      " [1.052e-01 0.000e+00 8.000e-04]\n",
      " [1.020e-01 2.000e-04 6.000e-04]\n",
      " [1.028e-01 0.000e+00 6.000e-04]\n",
      " [3.000e-04 9.290e-02 7.000e-04]\n",
      " [8.980e-02 0.000e+00 1.600e-03]\n",
      " [0.000e+00 1.008e-01 4.000e-04]\n",
      " [5.300e-03 4.000e-04 9.490e-02]\n",
      " [0.000e+00 1.056e-01 2.000e-04]]\n"
     ]
    }
   ],
   "source": [
    "print(cm_te)"
   ]
  },
  {
   "cell_type": "code",
   "execution_count": 22,
   "metadata": {},
   "outputs": [
    {
     "data": {
      "text/plain": [
       "0.0338"
      ]
     },
     "execution_count": 22,
     "metadata": {},
     "output_type": "execute_result"
    }
   ],
   "source": [
    "0.5*np.abs(cm_te - cm_tr).sum()"
   ]
  },
  {
   "cell_type": "code",
   "execution_count": null,
   "metadata": {},
   "outputs": [],
   "source": []
  }
 ],
 "metadata": {
  "kernelspec": {
   "display_name": "Python 3",
   "language": "python",
   "name": "python3"
  },
  "language_info": {
   "codemirror_mode": {
    "name": "ipython",
    "version": 3
   },
   "file_extension": ".py",
   "mimetype": "text/x-python",
   "name": "python",
   "nbconvert_exporter": "python",
   "pygments_lexer": "ipython3",
   "version": "3.7.4"
  }
 },
 "nbformat": 4,
 "nbformat_minor": 4
}
