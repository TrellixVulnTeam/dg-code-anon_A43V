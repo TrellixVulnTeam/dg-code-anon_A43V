{
 "cells": [
  {
   "cell_type": "code",
   "execution_count": 7,
   "metadata": {},
   "outputs": [],
   "source": [
    "import numpy as np\n",
    "import pylab as plt\n",
    "import torch\n",
    "from tqdm.auto import tqdm, trange\n",
    "import scipy.linalg\n",
    "import pandas as pd\n",
    "import torchvision.datasets as dst\n",
    "\n",
    "from common import gsave, gload\n",
    "from nde.kernels import KernelPredictor, KernelType, load_mnist_all, CifarKernel\n",
    "\n",
    "def joint_density(Y, L, nY=10, nL=10):\n",
    "    C = np.zeros((nY, nL))\n",
    "    for yhat, ell in zip(Y, L):\n",
    "        C[yhat, ell] += 1\n",
    "    C /= np.sum(C)\n",
    "    return C"
   ]
  },
  {
   "cell_type": "code",
   "execution_count": 2,
   "metadata": {},
   "outputs": [],
   "source": [
    "SETTING='mnist'\n",
    "X, Y = load_mnist_all()\n",
    "I_te = range(60000, 70000)\n",
    "ker = KernelPredictor(X, Y)\n",
    "ker.set_test(I_te) # set the test set.\n",
    "y_te = Y[I_te]\n",
    "N = 60000"
   ]
  },
  {
   "cell_type": "code",
   "execution_count": 3,
   "metadata": {},
   "outputs": [],
   "source": [
    "## MNIST-implementation\n",
    "\n",
    "# def train_pred(I_tr, y_tr):\n",
    "#     return ker.train_pred(I_tr, y_tr=y_tr, ktype = KernelType.GAUSSIAN, sigma=0.15)\n",
    "\n",
    "ktype = KernelType.GAUSSIAN\n",
    "sigma = 0.15\n",
    "\n",
    "Kte_all = ker.d_to_K(ker.D[I_te, :], ktype = ktype, sigma=sigma) \n",
    "\n",
    "def train_pred(I_tr, y_tr):\n",
    "    model = ker.train(I_tr, y_tr=y_tr, ktype=ktype, sigma=sigma)\n",
    "    Kte = Kte_all[:, I_tr]\n",
    "    yhats = Kte.dot(model)\n",
    "    preds = np.argmax(yhats, axis=1)\n",
    "    return preds"
   ]
  },
  {
   "cell_type": "code",
   "execution_count": 4,
   "metadata": {},
   "outputs": [],
   "source": [
    "def apply_noise(Y, confusion_matx):\n",
    "    C = torch.Tensor(confusion_matx)  # C[i, j] = Pr[j --> i]\n",
    "    Y_new = np.empty_like(Y)\n",
    "    for i in range(len(Y)):\n",
    "        y = Y[i]\n",
    "        p = C[:, y]\n",
    "        yNew = torch.distributions.categorical.Categorical(probs=p).sample()\n",
    "        Y_new[i] = yNew\n",
    "    return Y_new"
   ]
  },
  {
   "cell_type": "code",
   "execution_count": 5,
   "metadata": {},
   "outputs": [
    {
     "data": {
      "application/vnd.jupyter.widget-view+json": {
       "model_id": "b1bc0d7b47da4881be7cf8bb78d4c8e1",
       "version_major": 2,
       "version_minor": 0
      },
      "text/plain": [
       "HBox(children=(IntProgress(value=0, max=20), HTML(value='')))"
      ]
     },
     "metadata": {},
     "output_type": "display_data"
    },
    {
     "name": "stderr",
     "output_type": "stream",
     "text": [
      "/home/jupyter/ANONYMOUS-exp/nde/kernels/__init__.py:112: LinAlgWarning: Ill-conditioned matrix (rcond=5.10964e-08): result may not be accurate.\n",
      "  model = scipy.linalg.solve(Ktr, Y, sym_pos=True, check_finite=False)\n",
      "/home/jupyter/ANONYMOUS-exp/nde/kernels/__init__.py:112: LinAlgWarning: Ill-conditioned matrix (rcond=4.00515e-08): result may not be accurate.\n",
      "  model = scipy.linalg.solve(Ktr, Y, sym_pos=True, check_finite=False)\n",
      "/home/jupyter/ANONYMOUS-exp/nde/kernels/__init__.py:112: LinAlgWarning: Ill-conditioned matrix (rcond=2.88939e-08): result may not be accurate.\n",
      "  model = scipy.linalg.solve(Ktr, Y, sym_pos=True, check_finite=False)\n",
      "/home/jupyter/ANONYMOUS-exp/nde/kernels/__init__.py:112: LinAlgWarning: Ill-conditioned matrix (rcond=2.35465e-08): result may not be accurate.\n",
      "  model = scipy.linalg.solve(Ktr, Y, sym_pos=True, check_finite=False)\n",
      "/home/jupyter/ANONYMOUS-exp/nde/kernels/__init__.py:112: LinAlgWarning: Ill-conditioned matrix (rcond=1.85268e-08): result may not be accurate.\n",
      "  model = scipy.linalg.solve(Ktr, Y, sym_pos=True, check_finite=False)\n"
     ]
    },
    {
     "name": "stdout",
     "output_type": "stream",
     "text": [
      "\n"
     ]
    },
    {
     "data": {
      "image/png": "[encoded data removed]",
      "text/plain": [
       "<Figure size 432x288 with 1 Axes>"
      ]
     },
     "metadata": {
      "needs_background": "light"
     },
     "output_type": "display_data"
    }
   ],
   "source": [
    "def get_acc(ntrain=2500, nte=5000, sigma=1.0, ktype=KernelType.GAUSSIAN):\n",
    "    I_tr=range(ntrain)\n",
    "    I_te=range(ntrain, ntrain+nte)\n",
    "    ytrue= ker.y[I_te]\n",
    "    preds = ker.predict(I_tr, I_te, ktype=ktype, sigma=sigma)\n",
    "    return np.mean(preds == ytrue)\n",
    "\n",
    "s = np.linspace(0.01, 0.5, 20)\n",
    "accs = [get_acc(sigma=sig) for sig in tqdm(s)]\n",
    "plt.plot(s, accs)\n",
    "plt.ylabel('Test Acc');\n",
    "plt.xlabel('Bandwidth Sigma');"
   ]
  },
  {
   "cell_type": "code",
   "execution_count": null,
   "metadata": {},
   "outputs": [],
   "source": []
  },
  {
   "cell_type": "code",
   "execution_count": 36,
   "metadata": {},
   "outputs": [
    {
     "name": "stdout",
     "output_type": "stream",
     "text": [
      "test acc: 0.9516\n",
      "[[0.083 0.000 0.001 0.000 0.000 0.000 0.001 0.000 0.000 0.000]\n",
      " [0.014 0.113 0.000 0.000 0.000 0.000 0.001 0.001 0.000 0.001]\n",
      " [0.000 0.000 0.098 0.001 0.000 0.000 0.000 0.001 0.000 0.000]\n",
      " [0.000 0.000 0.001 0.097 0.000 0.001 0.000 0.000 0.001 0.001]\n",
      " [0.000 0.000 0.000 0.000 0.095 0.000 0.000 0.000 0.000 0.002]\n",
      " [0.000 0.000 0.000 0.001 0.000 0.086 0.001 0.000 0.001 0.001]\n",
      " [0.001 0.000 0.001 0.000 0.001 0.001 0.094 0.000 0.000 0.000]\n",
      " [0.000 0.000 0.001 0.001 0.000 0.000 0.000 0.098 0.000 0.001]\n",
      " [0.000 0.000 0.001 0.001 0.000 0.001 0.000 0.000 0.094 0.000]\n",
      " [0.000 0.000 0.000 0.001 0.002 0.000 0.000 0.002 0.000 0.095]]\n"
     ]
    }
   ],
   "source": [
    "## one-shot test\n",
    "\n",
    "ntr = 5000\n",
    "I_tr = np.random.choice(range(N), ntr, replace=False)\n",
    "\n",
    "C = np.eye(10) # C[i, j] = Pr[j --> i]\n",
    "C[0, 0] = 0.7\n",
    "C[1, 0] = 0.3\n",
    "\n",
    "y_tr_orig = np.copy(ker.y_tr[I_tr])\n",
    "y_tr = apply_noise(y_tr_orig, C)\n",
    "\n",
    "preds = train_pred(I_tr, y_tr)\n",
    "print('test acc:', (preds == y_te).mean())\n",
    "\n",
    "cm_te = joint_density(preds, y_te)\n",
    "np.set_printoptions(suppress=True,\n",
    "   formatter={'float_kind':'{:0.3f}'.format}) \n",
    "print(cm_te)"
   ]
  },
  {
   "cell_type": "code",
   "execution_count": 34,
   "metadata": {},
   "outputs": [
    {
     "name": "stdout",
     "output_type": "stream",
     "text": [
      "[[0.090 0.000 0.001 0.000 0.000 0.000 0.000 0.000 0.001 0.000]\n",
      " [0.007 0.112 0.000 0.000 0.000 0.000 0.000 0.001 0.000 0.000]\n",
      " [0.000 0.000 0.100 0.000 0.000 0.000 0.000 0.001 0.000 0.000]\n",
      " [0.000 0.000 0.000 0.099 0.000 0.001 0.000 0.000 0.001 0.001]\n",
      " [0.000 0.000 0.000 0.000 0.096 0.000 0.000 0.000 0.000 0.001]\n",
      " [0.000 0.000 0.000 0.001 0.000 0.087 0.000 0.000 0.000 0.000]\n",
      " [0.001 0.000 0.000 0.000 0.000 0.001 0.094 0.000 0.000 0.000]\n",
      " [0.000 0.000 0.001 0.001 0.000 0.000 0.000 0.099 0.000 0.001]\n",
      " [0.000 0.000 0.001 0.001 0.000 0.000 0.000 0.000 0.094 0.000]\n",
      " [0.000 0.000 0.000 0.000 0.002 0.000 0.000 0.001 0.000 0.097]]\n"
     ]
    }
   ],
   "source": [
    "np.set_printoptions(suppress=True,\n",
    "   formatter={'float_kind':'{:0.3f}'.format}) \n",
    "print(cm_te)"
   ]
  },
  {
   "cell_type": "code",
   "execution_count": 29,
   "metadata": {},
   "outputs": [
    {
     "data": {
      "application/vnd.jupyter.widget-view+json": {
       "model_id": "a94e3d1df0784ba3884de6d2f8e4862d",
       "version_major": 2,
       "version_minor": 0
      },
      "text/plain": [
       "HBox(children=(IntProgress(value=0), HTML(value='')))"
      ]
     },
     "metadata": {},
     "output_type": "display_data"
    },
    {
     "name": "stdout",
     "output_type": "stream",
     "text": [
      "\n"
     ]
    }
   ],
   "source": [
    "K = 100\n",
    "ntr = 10000\n",
    "\n",
    "C = np.eye(10) # C[i, j] = Pr[j --> i]\n",
    "C[0, 0] = 0.6\n",
    "C[1, 0] = 0.4\n",
    "\n",
    "preds = np.empty((K, 10000), dtype=np.int8)\n",
    "for i in trange(K):\n",
    "    I_tr = np.random.choice(range(N), ntr, replace=False)\n",
    "    y_tr_orig = np.copy(ker.y_tr[I_tr])\n",
    "    y_tr = apply_noise(y_tr_orig, C)\n",
    "    \n",
    "    p = train_pred(I_tr, y_tr)\n",
    "    preds[i] = p"
   ]
  },
  {
   "cell_type": "code",
   "execution_count": 30,
   "metadata": {},
   "outputs": [],
   "source": [
    "gsave((preds, y_te, C), f'gs://ANONYMOUS/results/nde/kernels/pointwise_density/mnist_n{ntr}_targ01_64')"
   ]
  },
  {
   "cell_type": "code",
   "execution_count": null,
   "metadata": {},
   "outputs": [],
   "source": []
  }
 ],
 "metadata": {
  "kernelspec": {
   "display_name": "Python 3",
   "language": "python",
   "name": "python3"
  },
  "language_info": {
   "codemirror_mode": {
    "name": "ipython",
    "version": 3
   },
   "file_extension": ".py",
   "mimetype": "text/x-python",
   "name": "python",
   "nbconvert_exporter": "python",
   "pygments_lexer": "ipython3",
   "version": "3.7.4"
  }
 },
 "nbformat": 4,
 "nbformat_minor": 4
}
