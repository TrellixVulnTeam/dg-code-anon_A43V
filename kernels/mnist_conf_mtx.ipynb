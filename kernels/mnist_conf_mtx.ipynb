{
 "cells": [
  {
   "cell_type": "code",
   "execution_count": 2,
   "metadata": {},
   "outputs": [],
   "source": [
    "import numpy as np\n",
    "import pylab as plt\n",
    "import torch\n",
    "from tqdm.auto import tqdm\n",
    "import scipy.linalg\n",
    "import pandas as pd\n",
    "import torchvision.datasets as dst\n",
    "\n",
    "from common import gsave, gload\n",
    "from nde.kernels import load_fmnist_all, KernelPredictor, KernelType"
   ]
  },
  {
   "cell_type": "code",
   "execution_count": 3,
   "metadata": {},
   "outputs": [],
   "source": [
    "def load_mnist():\n",
    "    train_ds = dst.MNIST(root='~/tmp/data', train=True,\n",
    "                                download=True, transform=None)\n",
    "    test_ds = dst.MNIST(root='~/tmp/data', train=False,\n",
    "                               download=True, transform=None)\n",
    "\n",
    "    def to_xy(dataset):\n",
    "        X = np.array(dataset.data) / 255.0\n",
    "        Y = np.array(dataset.targets)\n",
    "        return X, Y\n",
    "\n",
    "    X_tr, Y_tr = to_xy(train_ds)\n",
    "    X_te, Y_te = to_xy(test_ds)\n",
    "    return X_tr, Y_tr, X_te, Y_te\n",
    "\n",
    "def load_mnist_all():\n",
    "    X_tr, Y_tr, X_te, Y_te = load_mnist()\n",
    "    X = np.concatenate((X_tr, X_te)).astype(np.float32)\n",
    "    Y = np.concatenate((Y_tr, Y_te))\n",
    "    return X, Y"
   ]
  },
  {
   "cell_type": "code",
   "execution_count": 4,
   "metadata": {},
   "outputs": [],
   "source": [
    "X, Y = load_mnist_all()\n",
    "ker = KernelPredictor(X, Y)"
   ]
  },
  {
   "cell_type": "code",
   "execution_count": 5,
   "metadata": {},
   "outputs": [
    {
     "data": {
      "text/plain": [
       "dtype('float32')"
      ]
     },
     "execution_count": 5,
     "metadata": {},
     "output_type": "execute_result"
    }
   ],
   "source": [
    "ker.D.dtype"
   ]
  },
  {
   "cell_type": "code",
   "execution_count": 11,
   "metadata": {},
   "outputs": [],
   "source": [
    "def joint_density(Y, L, num_classes=None):\n",
    "    '''\n",
    "        Estimates the joint density of (Y, L)\n",
    "        where Y \\in [nY],  L \\in [nL].\n",
    "\n",
    "        In other words, returns the confusion matrix.\n",
    "    '''\n",
    "    if num_classes is None:\n",
    "        nY=np.max(Y)+1\n",
    "        nL=np.max(L)+1\n",
    "    else:\n",
    "        nY = nL = num_classes\n",
    "        \n",
    "    C = np.zeros((nY, nL))\n",
    "    for yhat, ell in zip(Y, L):\n",
    "        C[yhat, ell] += 1\n",
    "    C /= np.sum(C)\n",
    "    return C\n",
    "\n",
    "def apply_noise(Y, confusion_matx):\n",
    "    C = torch.Tensor(confusion_matx)  # C[i, j] = Pr[j --> i]\n",
    "    Y_new = np.empty_like(Y)\n",
    "    for i in range(len(Y)):\n",
    "        y = Y[i]\n",
    "        p = C[:, y]\n",
    "        yNew = torch.distributions.categorical.Categorical(probs=p).sample()\n",
    "        #print(p)\n",
    "        Y_new[i] = yNew\n",
    "    return Y_new\n",
    "\n",
    "def plot_confusion(cm, display_labels=None, include_values=True, cmap='viridis',\n",
    "         xticks_rotation='horizontal', values_format=None, ax=None):\n",
    "    \"\"\"Plot visualization. \n",
    "    https://github.com/scikit-learn/scikit-learn/blob/483cd3eaa/sklearn/metrics/_plot/confusion_matrix.py#L11\n",
    "    \"\"\"\n",
    "    \n",
    "    cm = cm.T # TRANSPOSE\n",
    "    n_classes = cm.shape[0]\n",
    "    \n",
    "    import matplotlib.pyplot as plt\n",
    "    from itertools import product\n",
    "\n",
    "    if ax is None:\n",
    "        fig, ax = plt.subplots()\n",
    "    else:\n",
    "        fig = ax.figure\n",
    "\n",
    "    im_ = ax.imshow(cm, interpolation='nearest', cmap=cmap)\n",
    "    text_ = None\n",
    "    cmap_min, cmap_max = im_.cmap(0), im_.cmap(256)\n",
    "\n",
    "    if include_values:\n",
    "        text_ = np.empty_like(cm, dtype=object)\n",
    "\n",
    "        # print text with appropriate color depending on background\n",
    "        thresh = (cm.max() + cm.min()) / 2.0\n",
    "\n",
    "        for i, j in product(range(n_classes), range(n_classes)):\n",
    "            color = cmap_max if cm[i, j] < thresh else cmap_min\n",
    "\n",
    "            if values_format is None:\n",
    "                text_cm = format(cm[i, j], '.2g')\n",
    "                if cm.dtype.kind != 'f':\n",
    "                    text_d = format(cm[i, j], 'd')\n",
    "                    if len(text_d) < len(text_cm):\n",
    "                        text_cm = text_d\n",
    "            else:\n",
    "                text_cm = format(cm[i, j], values_format)\n",
    "\n",
    "            text_[i, j] = ax.text(\n",
    "                j, i, text_cm,\n",
    "                ha=\"center\", va=\"center\",\n",
    "                color=color)\n",
    "\n",
    "    if display_labels is None:\n",
    "        display_labels = np.arange(n_classes)\n",
    "\n",
    "    #fig.colorbar(self.im_, ax=ax)\n",
    "    ax.set(xticks=np.arange(n_classes),\n",
    "           yticks=np.arange(n_classes),\n",
    "           xticklabels=display_labels,\n",
    "           yticklabels=display_labels,\n",
    "           ylabel=\"True label\",\n",
    "           xlabel=\"Predicted label\")\n",
    "\n",
    "    ax.set_ylim((n_classes - 0.5, -0.5))\n",
    "    plt.setp(ax.get_xticklabels(), rotation=xticks_rotation)\n",
    "\n",
    "    return (fig, ax)"
   ]
  },
  {
   "cell_type": "code",
   "execution_count": 17,
   "metadata": {},
   "outputs": [
    {
     "data": {
      "application/vnd.jupyter.widget-view+json": {
       "model_id": "c7037daf4339478d8e3e8b4f61445fe2",
       "version_major": 2,
       "version_minor": 0
      },
      "text/plain": [
       "HBox(children=(IntProgress(value=0, max=20), HTML(value='')))"
      ]
     },
     "metadata": {},
     "output_type": "display_data"
    },
    {
     "name": "stdout",
     "output_type": "stream",
     "text": [
      "\n"
     ]
    },
    {
     "data": {
      "text/plain": [
       "[<matplotlib.lines.Line2D at 0x7ff7c5eb6410>]"
      ]
     },
     "execution_count": 17,
     "metadata": {},
     "output_type": "execute_result"
    },
    {
     "data": {
      "image/png": "[encoded data removed]",
      "text/plain": [
       "<Figure size 432x288 with 1 Axes>"
      ]
     },
     "metadata": {
      "needs_background": "light"
     },
     "output_type": "display_data"
    }
   ],
   "source": [
    "def get_accs(ntr=1000, sigmas=[0.1]):\n",
    "    I_tr = list(range(0, ntr))\n",
    "    I_te = list(range(60000, 70000))\n",
    "    ktype = KernelType.GAUSSIAN\n",
    "    Dte = ker.D[I_te, :][:, I_tr]\n",
    "    Dtr = ker.D[I_tr, :][:, I_tr]\n",
    "    Y = np.eye(10)[ker.y[I_tr]]\n",
    "    \n",
    "    accs = []\n",
    "    for s in tqdm(sigmas):\n",
    "        Ktr = ker.d_to_K(Dtr, ktype, s)\n",
    "        model = scipy.linalg.solve(Ktr, Y, sym_pos=True, check_finite=False)\n",
    "        yhats = ker.d_to_K(Dte, ktype, s).dot(model)\n",
    "        preds = np.argmax(yhats, axis=1)\n",
    "        acc = (preds == ker.y[I_te]).mean()\n",
    "        accs.append(acc)\n",
    "    return accs\n",
    "\n",
    "sigmas = np.linspace(0.01, 0.5, 20)\n",
    "accs = get_accs(ntr=10000, sigmas=sigmas)\n",
    "plt.plot(sigmas, accs)"
   ]
  },
  {
   "cell_type": "code",
   "execution_count": 6,
   "metadata": {},
   "outputs": [
    {
     "ename": "KeyboardInterrupt",
     "evalue": "",
     "output_type": "error",
     "traceback": [
      "\u001b[0;31m---------------------------------------------------------------------------\u001b[0m",
      "\u001b[0;31mKeyboardInterrupt\u001b[0m                         Traceback (most recent call last)",
      "\u001b[0;32m<ipython-input-6-1fb48e7625a5>\u001b[0m in \u001b[0;36m<module>\u001b[0;34m\u001b[0m\n\u001b[1;32m      8\u001b[0m \u001b[0;34m\u001b[0m\u001b[0m\n\u001b[1;32m      9\u001b[0m \u001b[0mKte\u001b[0m \u001b[0;34m=\u001b[0m \u001b[0mker\u001b[0m\u001b[0;34m.\u001b[0m\u001b[0md_to_K\u001b[0m\u001b[0;34m(\u001b[0m\u001b[0mker\u001b[0m\u001b[0;34m.\u001b[0m\u001b[0mD\u001b[0m\u001b[0;34m[\u001b[0m\u001b[0mI_te\u001b[0m\u001b[0;34m,\u001b[0m \u001b[0;34m:\u001b[0m\u001b[0;34m]\u001b[0m\u001b[0;34m[\u001b[0m\u001b[0;34m:\u001b[0m\u001b[0;34m,\u001b[0m \u001b[0mI_tr\u001b[0m\u001b[0;34m]\u001b[0m\u001b[0;34m,\u001b[0m \u001b[0mktype\u001b[0m\u001b[0;34m,\u001b[0m \u001b[0msigma\u001b[0m\u001b[0;34m)\u001b[0m\u001b[0;34m\u001b[0m\u001b[0;34m\u001b[0m\u001b[0m\n\u001b[0;32m---> 10\u001b[0;31m \u001b[0mKtr\u001b[0m \u001b[0;34m=\u001b[0m \u001b[0mker\u001b[0m\u001b[0;34m.\u001b[0m\u001b[0md_to_K\u001b[0m\u001b[0;34m(\u001b[0m\u001b[0mker\u001b[0m\u001b[0;34m.\u001b[0m\u001b[0mD\u001b[0m\u001b[0;34m[\u001b[0m\u001b[0mI_tr\u001b[0m\u001b[0;34m,\u001b[0m \u001b[0;34m:\u001b[0m\u001b[0;34m]\u001b[0m\u001b[0;34m[\u001b[0m\u001b[0;34m:\u001b[0m\u001b[0;34m,\u001b[0m \u001b[0mI_tr\u001b[0m\u001b[0;34m]\u001b[0m\u001b[0;34m,\u001b[0m \u001b[0mktype\u001b[0m\u001b[0;34m,\u001b[0m \u001b[0msigma\u001b[0m\u001b[0;34m)\u001b[0m\u001b[0;34m\u001b[0m\u001b[0;34m\u001b[0m\u001b[0m\n\u001b[0m\u001b[1;32m     11\u001b[0m \u001b[0;34m\u001b[0m\u001b[0m\n\u001b[1;32m     12\u001b[0m \u001b[0my_tr\u001b[0m \u001b[0;34m=\u001b[0m \u001b[0mker\u001b[0m\u001b[0;34m.\u001b[0m\u001b[0my\u001b[0m\u001b[0;34m[\u001b[0m\u001b[0mI_tr\u001b[0m\u001b[0;34m]\u001b[0m\u001b[0;34m\u001b[0m\u001b[0;34m\u001b[0m\u001b[0m\n",
      "\u001b[0;31mKeyboardInterrupt\u001b[0m: "
     ]
    }
   ],
   "source": [
    "## SETUP\n",
    "\n",
    "ntr = 60000\n",
    "I_tr = list(range(0, ntr))\n",
    "I_te = list(range(60000, 70000))\n",
    "ktype = KernelType.GAUSSIAN\n",
    "sigma=0.15\n",
    "\n",
    "Kte = ker.d_to_K(ker.D[I_te, :][:, I_tr], ktype, sigma)\n",
    "Ktr = ker.d_to_K(ker.D[I_tr, :][:, I_tr], ktype, sigma)\n",
    "\n",
    "y_tr = ker.y[I_tr]\n",
    "y_te = ker.y[I_te]\n",
    "\n",
    "def train(y_tr, nc=10):\n",
    "    Y = np.eye(nc)[y_tr]\n",
    "    model = scipy.linalg.solve(Ktr, Y, sym_pos=True, check_finite=False)\n",
    "    yhats = Kte.dot(model)\n",
    "    preds = np.argmax(yhats, axis=1)\n",
    "    return preds"
   ]
  },
  {
   "cell_type": "code",
   "execution_count": 9,
   "metadata": {},
   "outputs": [
    {
     "name": "stdout",
     "output_type": "stream",
     "text": [
      "len(tr): 60000\n"
     ]
    },
    {
     "name": "stderr",
     "output_type": "stream",
     "text": [
      "/opt/anaconda3/lib/python3.7/site-packages/ipykernel_launcher.py:15: LinAlgWarning: Ill-conditioned matrix (rcond=6.58983e-09): result may not be accurate.\n",
      "  from ipykernel import kernelapp as app\n"
     ]
    },
    {
     "name": "stdout",
     "output_type": "stream",
     "text": [
      "acc: 0.9519\n"
     ]
    }
   ],
   "source": [
    "## SINGLE confusion matrix\n",
    "C = np.eye(10) # C[i, j] = Pr[j --> i]\n",
    "C[1, 0] = 0.4\n",
    "C[0, 0] = 0.6\n",
    "\n",
    "y_tr = ker.y[I_tr]\n",
    "y_tr_orig = np.copy(y_tr)\n",
    "y_tr = apply_noise(y_tr_orig, C)\n",
    "\n",
    "print('len(tr):', len(y_tr))\n",
    "\n",
    "preds = train(y_tr)\n",
    "\n",
    "print('acc:', (preds == y_te).mean())"
   ]
  },
  {
   "cell_type": "code",
   "execution_count": 10,
   "metadata": {},
   "outputs": [
    {
     "data": {
      "image/png": "[encoded data removed]",
      "text/plain": [
       "<Figure size 1440x720 with 2 Axes>"
      ]
     },
     "metadata": {
      "needs_background": "light"
     },
     "output_type": "display_data"
    }
   ],
   "source": [
    "fig, axs = plt.subplots(2, 1, figsize=(20, 10))\n",
    "\n",
    "cm_tr = joint_density(y_tr, y_tr_orig, num_classes=10)\n",
    "cm_te = joint_density(preds, y_te, num_classes=10)\n",
    "\n",
    "plot_confusion(cm_tr, ax=axs[0], display_labels=None)\n",
    "axs[0].set_title(f'Joint Density (Train).');\n",
    "plot_confusion(cm_te, ax=axs[1], display_labels=None)\n",
    "axs[1].set_title(f'Joint Density (Test).');"
   ]
  },
  {
   "cell_type": "code",
   "execution_count": 12,
   "metadata": {},
   "outputs": [
    {
     "name": "stderr",
     "output_type": "stream",
     "text": [
      "/opt/anaconda3/lib/python3.7/site-packages/ipykernel_launcher.py:15: LinAlgWarning: Ill-conditioned matrix (rcond=6.58983e-09): result may not be accurate.\n",
      "  from ipykernel import kernelapp as app\n"
     ]
    },
    {
     "name": "stdout",
     "output_type": "stream",
     "text": [
      "p:0.0\t test acc: 0.9882\n",
      "p:0.1\t test acc: 0.9865\n",
      "p:0.2\t test acc: 0.9792\n",
      "p:0.30000000000000004\t test acc: 0.9659\n",
      "p:0.4\t test acc: 0.955\n",
      "p:0.5\t test acc: 0.9381\n",
      "p:0.6000000000000001\t test acc: 0.9225\n",
      "p:0.7000000000000001\t test acc: 0.9109\n",
      "p:0.8\t test acc: 0.9005\n",
      "p:0.9\t test acc: 0.892\n",
      "p:1.0\t test acc: 0.8909\n"
     ]
    }
   ],
   "source": [
    "## ARRAY of CMs\n",
    "\n",
    "res = []\n",
    "\n",
    "ps = np.linspace(0, 1, 11)\n",
    "for p in ps:\n",
    "    C = np.eye(10) # C[i, j] = Pr[j --> i]\n",
    "    C[0, 0] = (1-p)\n",
    "    C[1, 0] = p\n",
    "\n",
    "    y_tr_orig = np.copy(ker.y[I_tr])\n",
    "    y_tr = apply_noise(y_tr_orig, C)\n",
    "\n",
    "    preds = train(y_tr)\n",
    "    acc = (preds == y_te).mean()\n",
    "    print(f'p:{p}\\t test acc: {acc}')\n",
    "    \n",
    "    cm_tr_ideal = C.dot(0.1*np.eye(10)) # ideal joint density\n",
    "    cm_tr = joint_density(y_tr, y_tr_orig, num_classes=10)\n",
    "    cm_te = joint_density(preds, y_te, num_classes=10)\n",
    "    \n",
    "    d = {\n",
    "        'p' : p,\n",
    "        'acc' : acc,\n",
    "        'cm_tr' : cm_tr,\n",
    "        'cm_te' : cm_te,\n",
    "        'cm_tr_ideal': cm_tr_ideal}\n",
    "    \n",
    "    res.append(d)"
   ]
  },
  {
   "cell_type": "code",
   "execution_count": 14,
   "metadata": {},
   "outputs": [],
   "source": [
    "gsave(res, f'gs://ANONYMOUS/results/nde/kernels/conf/mnist/gauss_targ01_s{sigma}')"
   ]
  },
  {
   "cell_type": "code",
   "execution_count": 17,
   "metadata": {},
   "outputs": [
    {
     "data": {
      "image/png": "[encoded data removed]",
      "text/plain": [
       "<Figure size 432x288 with 1 Axes>"
      ]
     },
     "metadata": {
      "needs_background": "light"
     },
     "output_type": "display_data"
    },
    {
     "data": {
      "image/png": "[encoded data removed]",
      "text/plain": [
       "<Figure size 432x288 with 1 Axes>"
      ]
     },
     "metadata": {
      "needs_background": "light"
     },
     "output_type": "display_data"
    },
    {
     "data": {
      "image/png": "[encoded data removed]",
      "text/plain": [
       "<Figure size 432x288 with 1 Axes>"
      ]
     },
     "metadata": {
      "needs_background": "light"
     },
     "output_type": "display_data"
    },
    {
     "data": {
      "image/png": "[encoded data removed]",
      "text/plain": [
       "<Figure size 432x288 with 1 Axes>"
      ]
     },
     "metadata": {
      "needs_background": "light"
     },
     "output_type": "display_data"
    },
    {
     "data": {
      "image/png": "[encoded data removed]",
      "text/plain": [
       "<Figure size 432x288 with 1 Axes>"
      ]
     },
     "metadata": {
      "needs_background": "light"
     },
     "output_type": "display_data"
    },
    {
     "data": {
      "image/png": "[encoded data removed]",
      "text/plain": [
       "<Figure size 432x288 with 1 Axes>"
      ]
     },
     "metadata": {
      "needs_background": "light"
     },
     "output_type": "display_data"
    },
    {
     "data": {
      "image/png": "[encoded data removed]",
      "text/plain": [
       "<Figure size 432x288 with 1 Axes>"
      ]
     },
     "metadata": {
      "needs_background": "light"
     },
     "output_type": "display_data"
    },
    {
     "data": {
      "image/png": "[encoded data removed]",
      "text/plain": [
       "<Figure size 432x288 with 1 Axes>"
      ]
     },
     "metadata": {
      "needs_background": "light"
     },
     "output_type": "display_data"
    },
    {
     "data": {
      "image/png": "[encoded data removed]",
      "text/plain": [
       "<Figure size 432x288 with 1 Axes>"
      ]
     },
     "metadata": {
      "needs_background": "light"
     },
     "output_type": "display_data"
    },
    {
     "data": {
      "image/png": "[encoded data removed]",
      "text/plain": [
       "<Figure size 432x288 with 1 Axes>"
      ]
     },
     "metadata": {
      "needs_background": "light"
     },
     "output_type": "display_data"
    },
    {
     "data": {
      "image/png": "[encoded data removed]",
      "text/plain": [
       "<Figure size 432x288 with 1 Axes>"
      ]
     },
     "metadata": {
      "needs_background": "light"
     },
     "output_type": "display_data"
    }
   ],
   "source": [
    "for d in res:\n",
    "    plt.figure()\n",
    "    plt.imshow(d['cm_te'])\n",
    "    #print(d['cm_te'])"
   ]
  },
  {
   "cell_type": "code",
   "execution_count": null,
   "metadata": {},
   "outputs": [],
   "source": []
  }
 ],
 "metadata": {
  "environment": {
   "name": "pytorch-gpu.1-4.m50",
   "type": "gcloud",
   "uri": "gcr.io/deeplearning-platform-release/pytorch-gpu.1-4:m50"
  },
  "kernelspec": {
   "display_name": "Python 3",
   "language": "python",
   "name": "python3"
  },
  "language_info": {
   "codemirror_mode": {
    "name": "ipython",
    "version": 3
   },
   "file_extension": ".py",
   "mimetype": "text/x-python",
   "name": "python",
   "nbconvert_exporter": "python",
   "pygments_lexer": "ipython3",
   "version": "3.7.6"
  }
 },
 "nbformat": 4,
 "nbformat_minor": 4
}
