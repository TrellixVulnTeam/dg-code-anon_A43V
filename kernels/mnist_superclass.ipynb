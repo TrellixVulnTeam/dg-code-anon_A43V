{
 "cells": [
  {
   "cell_type": "code",
   "execution_count": 8,
   "metadata": {},
   "outputs": [],
   "source": [
    "import numpy as np\n",
    "import pylab as plt\n",
    "import torch\n",
    "from tqdm.auto import tqdm\n",
    "import scipy.linalg\n",
    "import pandas as pd\n",
    "import torchvision.datasets as dst\n",
    "\n",
    "from common import gsave, gload\n",
    "from nde.common import joint_density\n",
    "from nde.kernels import load_mnist_all, KernelPredictor, KernelType\n",
    "\n",
    "def apply_noise(Y, confusion_matx):\n",
    "    C = torch.Tensor(confusion_matx)  # C[i, j] = Pr[j --> i]\n",
    "    Y_new = np.empty_like(Y)\n",
    "    for i in range(len(Y)):\n",
    "        y = Y[i]\n",
    "        p = C[:, y]\n",
    "        yNew = torch.distributions.categorical.Categorical(probs=p).sample()\n",
    "        Y_new[i] = yNew\n",
    "    return Y_new"
   ]
  },
  {
   "cell_type": "code",
   "execution_count": 2,
   "metadata": {},
   "outputs": [],
   "source": [
    "X, Y = load_mnist_all()\n",
    "ker = KernelPredictor(X, Y)"
   ]
  },
  {
   "cell_type": "code",
   "execution_count": null,
   "metadata": {},
   "outputs": [],
   "source": []
  },
  {
   "cell_type": "code",
   "execution_count": 22,
   "metadata": {},
   "outputs": [],
   "source": [
    "## SETUP. Superclass: Even/Odd\n",
    "\n",
    "y = (Y % 2)\n",
    "L = Y\n",
    "\n",
    "ntr = 60000\n",
    "I_tr = list(range(0, ntr))\n",
    "I_te = list(range(60000, 70000))\n",
    "ktype = KernelType.GAUSSIAN\n",
    "sigma=0.15\n",
    "\n",
    "Kte = ker.d_to_K(ker.D[I_te, :][:, I_tr], ktype, sigma)\n",
    "Ktr = ker.d_to_K(ker.D[I_tr, :][:, I_tr], ktype, sigma)\n",
    "\n",
    "# y_tr = y[I_tr]\n",
    "y_te = y[I_te]\n",
    "L_tr = L[I_tr]\n",
    "L_te = L[I_te]\n",
    "\n",
    "def train(y_tr, nc=2):\n",
    "    Y = np.eye(nc)[y_tr]\n",
    "    model = scipy.linalg.solve(Ktr, Y, sym_pos=True, check_finite=False)\n",
    "    yhats = Kte.dot(model)\n",
    "    preds = np.argmax(yhats, axis=1)\n",
    "    return preds"
   ]
  },
  {
   "cell_type": "code",
   "execution_count": 13,
   "metadata": {},
   "outputs": [
    {
     "name": "stdout",
     "output_type": "stream",
     "text": [
      "test acc: 0.957\n"
     ]
    }
   ],
   "source": [
    "## single test\n",
    "C = np.eye(10) # C[i, j] = Pr[j --> i]\n",
    "C[0, 0] = 0.7\n",
    "C[1, 0] = 0.3\n",
    "\n",
    "y_tr = apply_noise(L_tr, C) % 2\n",
    "\n",
    "predsTe = train(y_tr, nc=2)\n",
    "\n",
    "acc    = (predsTe == y_te).mean()\n",
    "print(f'test acc: {acc}')\n",
    "\n",
    "cm_tr = joint_density(y_tr, L_tr, nY=2, nL=10)\n",
    "cm_te = joint_density(predsTe, L_te,nY=2, nL=10)"
   ]
  },
  {
   "cell_type": "code",
   "execution_count": 14,
   "metadata": {},
   "outputs": [
    {
     "data": {
      "text/plain": [
       "<matplotlib.image.AxesImage at 0x7ff2dbb8edd0>"
      ]
     },
     "execution_count": 14,
     "metadata": {},
     "output_type": "execute_result"
    },
    {
     "data": {
      "image/png": "[encoded data removed]",
      "text/plain": [
       "<Figure size 432x288 with 1 Axes>"
      ]
     },
     "metadata": {
      "needs_background": "light"
     },
     "output_type": "display_data"
    }
   ],
   "source": [
    "plt.imshow(cm_tr)"
   ]
  },
  {
   "cell_type": "code",
   "execution_count": 15,
   "metadata": {},
   "outputs": [
    {
     "data": {
      "text/plain": [
       "<matplotlib.image.AxesImage at 0x7ff2dbb6c850>"
      ]
     },
     "execution_count": 15,
     "metadata": {},
     "output_type": "execute_result"
    },
    {
     "data": {
      "image/png": "[encoded data removed]",
      "text/plain": [
       "<Figure size 432x288 with 1 Axes>"
      ]
     },
     "metadata": {
      "needs_background": "light"
     },
     "output_type": "display_data"
    }
   ],
   "source": [
    "plt.imshow(cm_te)"
   ]
  },
  {
   "cell_type": "code",
   "execution_count": 23,
   "metadata": {},
   "outputs": [
    {
     "name": "stderr",
     "output_type": "stream",
     "text": [
      "/opt/anaconda3/lib/python3.7/site-packages/ipykernel_launcher.py:22: LinAlgWarning: Ill-conditioned matrix (rcond=6.58983e-09): result may not be accurate.\n"
     ]
    },
    {
     "name": "stdout",
     "output_type": "stream",
     "text": [
      "p:0.0\t test acc: 0.9938\n",
      "p:0.1\t test acc: 0.9921\n",
      "p:0.2\t test acc: 0.9828\n",
      "p:0.30000000000000004\t test acc: 0.9727\n",
      "p:0.4\t test acc: 0.9602\n",
      "p:0.5\t test acc: 0.9471\n",
      "p:0.6000000000000001\t test acc: 0.9278\n",
      "p:0.7000000000000001\t test acc: 0.9175\n",
      "p:0.8\t test acc: 0.9026\n",
      "p:0.9\t test acc: 0.8962\n",
      "p:1.0\t test acc: 0.8947\n"
     ]
    }
   ],
   "source": [
    "## ARRAY of CMs\n",
    "\n",
    "res = []\n",
    "\n",
    "ps = np.linspace(0, 1, 11)\n",
    "for p in ps:\n",
    "    C = np.eye(10) # C[i, j] = Pr[j --> i]\n",
    "    C[0, 0] = (1-p)\n",
    "    C[1, 0] = p\n",
    "\n",
    "    y_tr = apply_noise(L_tr, C) % 2\n",
    "    predsTe = train(y_tr, nc=2)\n",
    "    acc    = (predsTe == y_te).mean()\n",
    "#     tr_acc = (predsTr == y_tr).mean()\n",
    "#     print(f'p:{p}\\t test acc: {acc} \\t train acc: {tr_acc}')\n",
    "    print(f'p:{p}\\t test acc: {acc}')\n",
    "    \n",
    "    cm_tr = joint_density(y_tr, L_tr, nY=2, nL=10)\n",
    "    cm_te = joint_density(predsTe, L_te,nY=2, nL=10)\n",
    "    \n",
    "    d = {\n",
    "        'p' : p,\n",
    "        'acc' : acc,\n",
    "        'cm_tr' : cm_tr,\n",
    "        'cm_te' : cm_te}\n",
    "    \n",
    "    res.append(d)\n",
    "    \n",
    "gsave(res, f'gs://ANONYMOUS/results/nde/kernels/conf_sup/mnist/EvenOdd_targ01')    "
   ]
  },
  {
   "cell_type": "code",
   "execution_count": null,
   "metadata": {},
   "outputs": [],
   "source": []
  }
 ],
 "metadata": {
  "kernelspec": {
   "display_name": "Python 3",
   "language": "python",
   "name": "python3"
  },
  "language_info": {
   "codemirror_mode": {
    "name": "ipython",
    "version": 3
   },
   "file_extension": ".py",
   "mimetype": "text/x-python",
   "name": "python",
   "nbconvert_exporter": "python",
   "pygments_lexer": "ipython3",
   "version": "3.7.4"
  }
 },
 "nbformat": 4,
 "nbformat_minor": 4
}
