{
 "cells": [
  {
   "cell_type": "code",
   "execution_count": 1,
   "metadata": {},
   "outputs": [],
   "source": [
    "import numpy as np\n",
    "import pylab as plt\n",
    "import torch\n",
    "from tqdm.auto import tqdm\n",
    "import scipy.linalg\n",
    "import pandas as pd\n",
    "import torchvision.datasets as dst\n",
    "\n",
    "from common import gsave, gload\n",
    "from nde.kernels import load_fmnist_all, KernelPredictor, KernelType"
   ]
  },
  {
   "cell_type": "code",
   "execution_count": 2,
   "metadata": {},
   "outputs": [],
   "source": [
    "def load_mnist():\n",
    "    train_ds = dst.MNIST(root='~/tmp/data', train=True,\n",
    "                                download=True, transform=None)\n",
    "    test_ds = dst.MNIST(root='~/tmp/data', train=False,\n",
    "                               download=True, transform=None)\n",
    "\n",
    "    def to_xy(dataset):\n",
    "        X = np.array(dataset.data) / 255.0\n",
    "        Y = np.array(dataset.targets)\n",
    "        return X, Y\n",
    "\n",
    "    X_tr, Y_tr = to_xy(train_ds)\n",
    "    X_te, Y_te = to_xy(test_ds)\n",
    "    return X_tr, Y_tr, X_te, Y_te\n",
    "\n",
    "def load_mnist_all():\n",
    "    X_tr, Y_tr, X_te, Y_te = load_mnist()\n",
    "    X = np.concatenate((X_tr, X_te)).astype(np.float32)\n",
    "    Y = np.concatenate((Y_tr, Y_te))\n",
    "    return X, Y"
   ]
  },
  {
   "cell_type": "code",
   "execution_count": 3,
   "metadata": {},
   "outputs": [],
   "source": [
    "X, Y = load_mnist_all()\n",
    "ker = KernelPredictor(X, Y)"
   ]
  },
  {
   "cell_type": "code",
   "execution_count": 4,
   "metadata": {},
   "outputs": [
    {
     "data": {
      "text/plain": [
       "dtype('float32')"
      ]
     },
     "execution_count": 4,
     "metadata": {},
     "output_type": "execute_result"
    }
   ],
   "source": [
    "ker.D.dtype"
   ]
  },
  {
   "cell_type": "code",
   "execution_count": 5,
   "metadata": {},
   "outputs": [],
   "source": [
    "def joint_density(Y, L, num_classes=None):\n",
    "    '''\n",
    "        Estimates the joint density of (Y, L)\n",
    "        where Y \\in [nY],  L \\in [nL].\n",
    "\n",
    "        In other words, returns the confusion matrix.\n",
    "    '''\n",
    "    if num_classes is None:\n",
    "        nY=np.max(Y)+1\n",
    "        nL=np.max(L)+1\n",
    "    else:\n",
    "        nY = nL = num_classes\n",
    "        \n",
    "    C = np.zeros((nY, nL))\n",
    "    for yhat, ell in zip(Y, L):\n",
    "        C[yhat, ell] += 1\n",
    "    C /= np.sum(C)\n",
    "    return C\n",
    "\n",
    "def apply_noise(Y, confusion_matx):\n",
    "    C = torch.Tensor(confusion_matx)  # C[i, j] = Pr[j --> i]\n",
    "    Y_new = np.empty_like(Y)\n",
    "    for i in range(len(Y)):\n",
    "        y = Y[i]\n",
    "        p = C[:, y]\n",
    "        yNew = torch.distributions.categorical.Categorical(probs=p).sample()\n",
    "        #print(p)\n",
    "        Y_new[i] = yNew\n",
    "    return Y_new\n",
    "\n",
    "def plot_confusion(cm, display_labels=None, include_values=True, cmap='viridis',\n",
    "         xticks_rotation='horizontal', values_format=None, ax=None):\n",
    "    \"\"\"Plot visualization. \n",
    "    https://github.com/scikit-learn/scikit-learn/blob/483cd3eaa/sklearn/metrics/_plot/confusion_matrix.py#L11\n",
    "    \"\"\"\n",
    "    \n",
    "    cm = cm.T # TRANSPOSE\n",
    "    n_classes = cm.shape[0]\n",
    "    \n",
    "    import matplotlib.pyplot as plt\n",
    "    from itertools import product\n",
    "\n",
    "    if ax is None:\n",
    "        fig, ax = plt.subplots()\n",
    "    else:\n",
    "        fig = ax.figure\n",
    "\n",
    "    im_ = ax.imshow(cm, interpolation='nearest', cmap=cmap)\n",
    "    text_ = None\n",
    "    cmap_min, cmap_max = im_.cmap(0), im_.cmap(256)\n",
    "\n",
    "    if include_values:\n",
    "        text_ = np.empty_like(cm, dtype=object)\n",
    "\n",
    "        # print text with appropriate color depending on background\n",
    "        thresh = (cm.max() + cm.min()) / 2.0\n",
    "\n",
    "        for i, j in product(range(n_classes), range(n_classes)):\n",
    "            color = cmap_max if cm[i, j] < thresh else cmap_min\n",
    "\n",
    "            if values_format is None:\n",
    "                text_cm = format(cm[i, j], '.2g')\n",
    "                if cm.dtype.kind != 'f':\n",
    "                    text_d = format(cm[i, j], 'd')\n",
    "                    if len(text_d) < len(text_cm):\n",
    "                        text_cm = text_d\n",
    "            else:\n",
    "                text_cm = format(cm[i, j], values_format)\n",
    "\n",
    "            text_[i, j] = ax.text(\n",
    "                j, i, text_cm,\n",
    "                ha=\"center\", va=\"center\",\n",
    "                color=color)\n",
    "\n",
    "    if display_labels is None:\n",
    "        display_labels = np.arange(n_classes)\n",
    "\n",
    "    #fig.colorbar(self.im_, ax=ax)\n",
    "    ax.set(xticks=np.arange(n_classes),\n",
    "           yticks=np.arange(n_classes),\n",
    "           xticklabels=display_labels,\n",
    "           yticklabels=display_labels,\n",
    "           ylabel=\"True label\",\n",
    "           xlabel=\"Predicted label\")\n",
    "\n",
    "    ax.set_ylim((n_classes - 0.5, -0.5))\n",
    "    plt.setp(ax.get_xticklabels(), rotation=xticks_rotation)\n",
    "\n",
    "    return (fig, ax)"
   ]
  },
  {
   "cell_type": "code",
   "execution_count": 74,
   "metadata": {},
   "outputs": [],
   "source": [
    "## SETUP\n",
    "\n",
    "ntr = 10000 # 60000\n",
    "I_tr = list(range(0, ntr))\n",
    "I_te = list(range(60000, 70000))\n",
    "ktype = KernelType.GAUSSIAN\n",
    "sigma=0.15\n",
    "\n",
    "Kte = ker.d_to_K(ker.D[I_te, :][:, I_tr], ktype, sigma)\n",
    "Ktr = ker.d_to_K(ker.D[I_tr, :][:, I_tr], ktype, sigma)\n",
    "\n",
    "y_tr = ker.y[I_tr]\n",
    "y_te = ker.y[I_te]\n",
    "\n",
    "def train(y_tr, nc=10):\n",
    "    Y = np.eye(nc)[y_tr]\n",
    "    model = scipy.linalg.solve(Ktr, Y, sym_pos=True, check_finite=False)\n",
    "    yhats = Kte.dot(model)\n",
    "    preds = np.argmax(yhats, axis=1)\n",
    "    return preds"
   ]
  },
  {
   "cell_type": "code",
   "execution_count": 75,
   "metadata": {},
   "outputs": [
    {
     "name": "stdout",
     "output_type": "stream",
     "text": [
      "SVM train acc: 0.6931\n",
      "SVM test acc: 0.6705\n"
     ]
    }
   ],
   "source": [
    "## SVM\n",
    "\n",
    "def train_svm(y_tr, C = 1.0):\n",
    "    from sklearn.svm import SVC\n",
    "    clf = SVC(kernel = \"precomputed\", C = C, cache_size = 100000)\n",
    "    clf.fit(Ktr, y_tr)\n",
    "    preds = clf.predict(Kte)\n",
    "    return preds\n",
    "\n",
    "def train_svm2(y_tr, C=1.0):\n",
    "    from sklearn.svm import SVC\n",
    "    clf = SVC(kernel = \"precomputed\", C = C, cache_size = 100000)\n",
    "    clf.fit(Ktr, y_tr)\n",
    "    predsTe = clf.predict(Kte)\n",
    "    predsTr = clf.predict(Ktr)\n",
    "    return predsTe, predsTr\n",
    "\n",
    "predsTe, predsTr = train_svm2(y_tr, C = 0.01)\n",
    "print('SVM train acc:', (predsTr == y_tr).mean())\n",
    "print('SVM test acc:', (predsTe == y_te).mean())"
   ]
  },
  {
   "cell_type": "code",
   "execution_count": 15,
   "metadata": {},
   "outputs": [
    {
     "data": {
      "application/vnd.jupyter.widget-view+json": {
       "model_id": "3b9ba3d95776436294a462a252ff800d",
       "version_major": 2,
       "version_minor": 0
      },
      "text/plain": [
       "HBox(children=(IntProgress(value=0, max=10), HTML(value='')))"
      ]
     },
     "metadata": {},
     "output_type": "display_data"
    },
    {
     "name": "stdout",
     "output_type": "stream",
     "text": [
      "\n"
     ]
    },
    {
     "data": {
      "text/plain": [
       "Text(0, 0.5, 'test acc')"
      ]
     },
     "execution_count": 15,
     "metadata": {},
     "output_type": "execute_result"
    },
    {
     "data": {
      "image/png": "[encoded data removed]",
      "text/plain": [
       "<Figure size 432x288 with 1 Axes>"
      ]
     },
     "metadata": {
      "needs_background": "light"
     },
     "output_type": "display_data"
    }
   ],
   "source": [
    "## calibtrate SVM 'C' value\n",
    "\n",
    "cs = 10**np.linspace(-3, 1, 10)\n",
    "accs = [(train_svm(y_tr, C = c)== y_te).mean() for c in tqdm(cs)]\n",
    "plt.semilogx(cs, accs);\n",
    "plt.title('Acc vs C');\n",
    "plt.xlabel('C');\n",
    "plt.ylabel('test acc')"
   ]
  },
  {
   "cell_type": "code",
   "execution_count": null,
   "metadata": {},
   "outputs": [],
   "source": []
  },
  {
   "cell_type": "code",
   "execution_count": null,
   "metadata": {},
   "outputs": [],
   "source": []
  },
  {
   "cell_type": "code",
   "execution_count": 63,
   "metadata": {},
   "outputs": [
    {
     "name": "stdout",
     "output_type": "stream",
     "text": [
      "len(tr): 10000\n",
      "SVM train acc: 1.0\n",
      "SVM test acc: 0.9307\n"
     ]
    }
   ],
   "source": [
    "## SINGLE confusion matrix\n",
    "C = np.eye(10) # C[i, j] = Pr[j --> i]\n",
    "C[1, 0] = 0.45\n",
    "C[0, 0] = 0.55\n",
    "\n",
    "y_tr = ker.y[I_tr]\n",
    "y_tr_orig = np.copy(y_tr)\n",
    "y_tr = apply_noise(y_tr_orig, C)\n",
    "\n",
    "print('len(tr):', len(y_tr))\n",
    "\n",
    "predsTe, predsTr = train_svm2(y_tr, C = 10.0)\n",
    "\n",
    "print('SVM train acc:', (predsTr == y_tr).mean())\n",
    "print('SVM test acc:', (predsTe == y_te).mean())"
   ]
  },
  {
   "cell_type": "code",
   "execution_count": 55,
   "metadata": {},
   "outputs": [
    {
     "data": {
      "image/png": "[encoded data removed]",
      "text/plain": [
       "<Figure size 1440x720 with 2 Axes>"
      ]
     },
     "metadata": {
      "needs_background": "light"
     },
     "output_type": "display_data"
    }
   ],
   "source": [
    "fig, axs = plt.subplots(2, 1, figsize=(20, 10))\n",
    "\n",
    "cm_tr = joint_density(predsTr, y_tr_orig, num_classes=10)\n",
    "cm_te = joint_density(predsTe, y_te, num_classes=10)\n",
    "\n",
    "plot_confusion(cm_tr, ax=axs[0], display_labels=None)\n",
    "axs[0].set_title(f'Joint Density (Train).');\n",
    "plot_confusion(cm_te, ax=axs[1], display_labels=None)\n",
    "axs[1].set_title(f'Joint Density (Test).');"
   ]
  },
  {
   "cell_type": "code",
   "execution_count": 71,
   "metadata": {},
   "outputs": [
    {
     "name": "stdout",
     "output_type": "stream",
     "text": [
      "p:0.0\t test acc: 0.9857 \t train acc: 1.0\n",
      "p:0.1\t test acc: 0.9836 \t train acc: 0.9999833333333333\n",
      "p:0.2\t test acc: 0.9753 \t train acc: 0.9999333333333333\n",
      "p:0.30000000000000004\t test acc: 0.9661 \t train acc: 0.9999666666666667\n",
      "p:0.4\t test acc: 0.9475 \t train acc: 0.99995\n",
      "p:0.5\t test acc: 0.9386 \t train acc: 0.9999666666666667\n",
      "p:0.6000000000000001\t test acc: 0.92 \t train acc: 0.9999666666666667\n",
      "p:0.7000000000000001\t test acc: 0.9069 \t train acc: 0.9999333333333333\n",
      "p:0.8\t test acc: 0.8964 \t train acc: 0.99995\n",
      "p:0.9\t test acc: 0.8896 \t train acc: 0.9999666666666667\n",
      "p:1.0\t test acc: 0.8884 \t train acc: 1.0\n"
     ]
    }
   ],
   "source": [
    "## ARRAY of CMs\n",
    "C_svm = 10.0\n",
    "\n",
    "res = []\n",
    "\n",
    "ps = np.linspace(0, 1, 11)\n",
    "for p in ps:\n",
    "    C = np.eye(10) # C[i, j] = Pr[j --> i]\n",
    "    C[0, 0] = (1-p)\n",
    "    C[1, 0] = p\n",
    "\n",
    "    y_tr_orig = np.copy(ker.y[I_tr])\n",
    "    y_tr = apply_noise(y_tr_orig, C)\n",
    "\n",
    "    predsTe, predsTr = train_svm2(y_tr, C = C_svm)\n",
    "    \n",
    "    acc    = (predsTe == y_te).mean()\n",
    "    tr_acc = (predsTr == y_tr).mean()\n",
    "    print(f'p:{p}\\t test acc: {acc} \\t train acc: {tr_acc}')\n",
    "    \n",
    "    cm_tr_ideal = C.dot(0.1*np.eye(10)) # ideal joint density\n",
    "    cm_tr = joint_density(predsTr, y_tr_orig, num_classes=10)\n",
    "    cm_te = joint_density(predsTe, y_te, num_classes=10)\n",
    "    \n",
    "    d = {\n",
    "        'p' : p,\n",
    "        'acc' : acc,\n",
    "        'tr_acc' : tr_acc,\n",
    "        'cm_tr' : cm_tr,\n",
    "        'cm_te' : cm_te,\n",
    "        'cm_tr_ideal': cm_tr_ideal}\n",
    "    \n",
    "    res.append(d)"
   ]
  },
  {
   "cell_type": "code",
   "execution_count": 72,
   "metadata": {},
   "outputs": [],
   "source": [
    "gsave(res, f'gs://ANONYMOUS/results/nde/kernels/conf/mnist/svm_targ01_C{C_svm}_s{sigma}')"
   ]
  },
  {
   "cell_type": "code",
   "execution_count": 73,
   "metadata": {},
   "outputs": [
    {
     "data": {
      "image/png": "[encoded data removed]",
      "text/plain": [
       "<Figure size 432x288 with 1 Axes>"
      ]
     },
     "metadata": {
      "needs_background": "light"
     },
     "output_type": "display_data"
    },
    {
     "data": {
      "image/png": "[encoded data removed]",
      "text/plain": [
       "<Figure size 432x288 with 1 Axes>"
      ]
     },
     "metadata": {
      "needs_background": "light"
     },
     "output_type": "display_data"
    },
    {
     "data": {
      "image/png": "[encoded data removed]",
      "text/plain": [
       "<Figure size 432x288 with 1 Axes>"
      ]
     },
     "metadata": {
      "needs_background": "light"
     },
     "output_type": "display_data"
    },
    {
     "data": {
      "image/png": "[encoded data removed]",
      "text/plain": [
       "<Figure size 432x288 with 1 Axes>"
      ]
     },
     "metadata": {
      "needs_background": "light"
     },
     "output_type": "display_data"
    },
    {
     "data": {
      "image/png": "[encoded data removed]",
      "text/plain": [
       "<Figure size 432x288 with 1 Axes>"
      ]
     },
     "metadata": {
      "needs_background": "light"
     },
     "output_type": "display_data"
    },
    {
     "data": {
      "image/png": "[encoded data removed]",
      "text/plain": [
       "<Figure size 432x288 with 1 Axes>"
      ]
     },
     "metadata": {
      "needs_background": "light"
     },
     "output_type": "display_data"
    },
    {
     "data": {
      "image/png": "[encoded data removed]",
      "text/plain": [
       "<Figure size 432x288 with 1 Axes>"
      ]
     },
     "metadata": {
      "needs_background": "light"
     },
     "output_type": "display_data"
    },
    {
     "data": {
      "image/png": "[encoded data removed]",
      "text/plain": [
       "<Figure size 432x288 with 1 Axes>"
      ]
     },
     "metadata": {
      "needs_background": "light"
     },
     "output_type": "display_data"
    },
    {
     "data": {
      "image/png": "[encoded data removed]",
      "text/plain": [
       "<Figure size 432x288 with 1 Axes>"
      ]
     },
     "metadata": {
      "needs_background": "light"
     },
     "output_type": "display_data"
    },
    {
     "data": {
      "image/png": "[encoded data removed]",
      "text/plain": [
       "<Figure size 432x288 with 1 Axes>"
      ]
     },
     "metadata": {
      "needs_background": "light"
     },
     "output_type": "display_data"
    },
    {
     "data": {
      "image/png": "[encoded data removed]",
      "text/plain": [
       "<Figure size 432x288 with 1 Axes>"
      ]
     },
     "metadata": {
      "needs_background": "light"
     },
     "output_type": "display_data"
    }
   ],
   "source": [
    "for d in res:\n",
    "    plt.figure()\n",
    "    plt.imshow(d['cm_te'])\n",
    "    #print(d['cm_te'])"
   ]
  },
  {
   "cell_type": "markdown",
   "metadata": {},
   "source": [
    "## Grid of p x C"
   ]
  },
  {
   "cell_type": "code",
   "execution_count": 85,
   "metadata": {},
   "outputs": [
    {
     "data": {
      "text/plain": [
       "array([-2. , -1.5, -1. , -0.5,  0. ,  0.5,  1. ,  1.5,  2. ])"
      ]
     },
     "execution_count": 85,
     "metadata": {},
     "output_type": "execute_result"
    }
   ],
   "source": [
    "exps = np.linspace(-2, 2, 4*2 + 1)\n",
    "cs = 10**exps\n",
    "exps"
   ]
  },
  {
   "cell_type": "code",
   "execution_count": 86,
   "metadata": {},
   "outputs": [
    {
     "data": {
      "application/vnd.jupyter.widget-view+json": {
       "model_id": "a8e64c3b11d446e6b71f538cada294c8",
       "version_major": 2,
       "version_minor": 0
      },
      "text/plain": [
       "HBox(children=(IntProgress(value=0, max=9), HTML(value='')))"
      ]
     },
     "metadata": {},
     "output_type": "display_data"
    },
    {
     "name": "stdout",
     "output_type": "stream",
     "text": [
      "exp:-2.0\t, p:0.0\t test acc: 0.6705 \t train acc: 0.6931\n",
      "exp:-2.0\t, p:0.1\t test acc: 0.6572 \t train acc: 0.6739\n",
      "exp:-2.0\t, p:0.2\t test acc: 0.6215 \t train acc: 0.6372\n",
      "exp:-2.0\t, p:0.30000000000000004\t test acc: 0.5829 \t train acc: 0.6018\n",
      "exp:-2.0\t, p:0.4\t test acc: 0.577 \t train acc: 0.6218\n",
      "exp:-2.0\t, p:0.5\t test acc: 0.5497 \t train acc: 0.6112\n",
      "exp:-2.0\t, p:0.6000000000000001\t test acc: 0.4443 \t train acc: 0.5162\n",
      "exp:-2.0\t, p:0.7000000000000001\t test acc: 0.3817 \t train acc: 0.4693\n",
      "exp:-2.0\t, p:0.8\t test acc: 0.3651 \t train acc: 0.4621\n",
      "exp:-2.0\t, p:0.9\t test acc: 0.3518 \t train acc: 0.4564\n",
      "exp:-2.0\t, p:1.0\t test acc: 0.3376 \t train acc: 0.4513\n",
      "exp:-1.5\t, p:0.0\t test acc: 0.8954 \t train acc: 0.9035\n",
      "exp:-1.5\t, p:0.1\t test acc: 0.8952 \t train acc: 0.8944\n",
      "exp:-1.5\t, p:0.2\t test acc: 0.8937 \t train acc: 0.8845\n",
      "exp:-1.5\t, p:0.30000000000000004\t test acc: 0.8925 \t train acc: 0.8718\n",
      "exp:-1.5\t, p:0.4\t test acc: 0.8858 \t train acc: 0.8605\n",
      "exp:-1.5\t, p:0.5\t test acc: 0.7997 \t train acc: 0.8549\n",
      "exp:-1.5\t, p:0.6000000000000001\t test acc: 0.7977 \t train acc: 0.8616\n",
      "exp:-1.5\t, p:0.7000000000000001\t test acc: 0.7966 \t train acc: 0.8693\n",
      "exp:-1.5\t, p:0.8\t test acc: 0.7924 \t train acc: 0.876\n",
      "exp:-1.5\t, p:0.9\t test acc: 0.7896 \t train acc: 0.8842\n",
      "exp:-1.5\t, p:1.0\t test acc: 0.7842 \t train acc: 0.8908\n",
      "exp:-1.0\t, p:0.0\t test acc: 0.9383 \t train acc: 0.9511\n",
      "exp:-1.0\t, p:0.1\t test acc: 0.9383 \t train acc: 0.9419\n",
      "exp:-1.0\t, p:0.2\t test acc: 0.9383 \t train acc: 0.9326\n",
      "exp:-1.0\t, p:0.30000000000000004\t test acc: 0.9382 \t train acc: 0.9211\n",
      "exp:-1.0\t, p:0.4\t test acc: 0.9376 \t train acc: 0.9111\n",
      "exp:-1.0\t, p:0.5\t test acc: 0.8496 \t train acc: 0.9039\n",
      "exp:-1.0\t, p:0.6000000000000001\t test acc: 0.8423 \t train acc: 0.9095\n",
      "exp:-1.0\t, p:0.7000000000000001\t test acc: 0.8406 \t train acc: 0.9196\n",
      "exp:-1.0\t, p:0.8\t test acc: 0.8399 \t train acc: 0.9291\n",
      "exp:-1.0\t, p:0.9\t test acc: 0.8395 \t train acc: 0.9411\n",
      "exp:-1.0\t, p:1.0\t test acc: 0.8394 \t train acc: 0.9507\n",
      "exp:-0.5\t, p:0.0\t test acc: 0.956 \t train acc: 0.9794\n",
      "exp:-0.5\t, p:0.1\t test acc: 0.9562 \t train acc: 0.9677\n",
      "exp:-0.5\t, p:0.2\t test acc: 0.9564 \t train acc: 0.9581\n",
      "exp:-0.5\t, p:0.30000000000000004\t test acc: 0.9566 \t train acc: 0.9496\n",
      "exp:-0.5\t, p:0.4\t test acc: 0.9565 \t train acc: 0.9393\n",
      "exp:-0.5\t, p:0.5\t test acc: 0.9179 \t train acc: 0.9491\n",
      "exp:-0.5\t, p:0.6000000000000001\t test acc: 0.8599 \t train acc: 0.9402\n",
      "exp:-0.5\t, p:0.7000000000000001\t test acc: 0.8598 \t train acc: 0.947\n",
      "exp:-0.5\t, p:0.8\t test acc: 0.8591 \t train acc: 0.959\n",
      "exp:-0.5\t, p:0.9\t test acc: 0.8586 \t train acc: 0.9703\n",
      "exp:-0.5\t, p:1.0\t test acc: 0.8583 \t train acc: 0.979\n",
      "exp:0.0\t, p:0.0\t test acc: 0.9672 \t train acc: 0.9971\n",
      "exp:0.0\t, p:0.1\t test acc: 0.9675 \t train acc: 0.989\n",
      "exp:0.0\t, p:0.2\t test acc: 0.9674 \t train acc: 0.9796\n",
      "exp:0.0\t, p:0.30000000000000004\t test acc: 0.9674 \t train acc: 0.973\n",
      "exp:0.0\t, p:0.4\t test acc: 0.9506 \t train acc: 0.9833\n",
      "exp:0.0\t, p:0.5\t test acc: 0.9033 \t train acc: 0.986\n",
      "exp:0.0\t, p:0.6000000000000001\t test acc: 0.8801 \t train acc: 0.9789\n",
      "exp:0.0\t, p:0.7000000000000001\t test acc: 0.8716 \t train acc: 0.9732\n",
      "exp:0.0\t, p:0.8\t test acc: 0.8701 \t train acc: 0.9799\n",
      "exp:0.0\t, p:0.9\t test acc: 0.8703 \t train acc: 0.9865\n",
      "exp:0.0\t, p:1.0\t test acc: 0.8699 \t train acc: 0.9971\n",
      "exp:0.5\t, p:0.0\t test acc: 0.9706 \t train acc: 1.0\n",
      "exp:0.5\t, p:0.1\t test acc: 0.97 \t train acc: 0.9991\n",
      "exp:0.5\t, p:0.2\t test acc: 0.9646 \t train acc: 0.9992\n",
      "exp:0.5\t, p:0.30000000000000004\t test acc: 0.9552 \t train acc: 0.9991\n",
      "exp:0.5\t, p:0.4\t test acc: 0.9392 \t train acc: 0.9993\n",
      "exp:0.5\t, p:0.5\t test acc: 0.9133 \t train acc: 0.9988\n",
      "exp:0.5\t, p:0.6000000000000001\t test acc: 0.9093 \t train acc: 0.9993\n",
      "exp:0.5\t, p:0.7000000000000001\t test acc: 0.8866 \t train acc: 0.999\n",
      "exp:0.5\t, p:0.8\t test acc: 0.876 \t train acc: 0.9987\n",
      "exp:0.5\t, p:0.9\t test acc: 0.8731 \t train acc: 0.9993\n",
      "exp:0.5\t, p:1.0\t test acc: 0.8728 \t train acc: 1.0\n",
      "exp:1.0\t, p:0.0\t test acc: 0.9707 \t train acc: 1.0\n",
      "exp:1.0\t, p:0.1\t test acc: 0.9698 \t train acc: 1.0\n",
      "exp:1.0\t, p:0.2\t test acc: 0.9641 \t train acc: 1.0\n",
      "exp:1.0\t, p:0.30000000000000004\t test acc: 0.9498 \t train acc: 1.0\n",
      "exp:1.0\t, p:0.4\t test acc: 0.9355 \t train acc: 1.0\n",
      "exp:1.0\t, p:0.5\t test acc: 0.9196 \t train acc: 1.0\n",
      "exp:1.0\t, p:0.6000000000000001\t test acc: 0.9089 \t train acc: 1.0\n",
      "exp:1.0\t, p:0.7000000000000001\t test acc: 0.8851 \t train acc: 1.0\n",
      "exp:1.0\t, p:0.8\t test acc: 0.8788 \t train acc: 1.0\n",
      "exp:1.0\t, p:0.9\t test acc: 0.8753 \t train acc: 1.0\n",
      "exp:1.0\t, p:1.0\t test acc: 0.8729 \t train acc: 1.0\n",
      "exp:1.5\t, p:0.0\t test acc: 0.9707 \t train acc: 1.0\n",
      "exp:1.5\t, p:0.1\t test acc: 0.9692 \t train acc: 1.0\n",
      "exp:1.5\t, p:0.2\t test acc: 0.964 \t train acc: 1.0\n",
      "exp:1.5\t, p:0.30000000000000004\t test acc: 0.9476 \t train acc: 1.0\n",
      "exp:1.5\t, p:0.4\t test acc: 0.9338 \t train acc: 1.0\n",
      "exp:1.5\t, p:0.5\t test acc: 0.9219 \t train acc: 1.0\n",
      "exp:1.5\t, p:0.6000000000000001\t test acc: 0.9061 \t train acc: 1.0\n",
      "exp:1.5\t, p:0.7000000000000001\t test acc: 0.8936 \t train acc: 1.0\n",
      "exp:1.5\t, p:0.8\t test acc: 0.8789 \t train acc: 1.0\n",
      "exp:1.5\t, p:0.9\t test acc: 0.8733 \t train acc: 1.0\n",
      "exp:1.5\t, p:1.0\t test acc: 0.8729 \t train acc: 1.0\n",
      "exp:2.0\t, p:0.0\t test acc: 0.9707 \t train acc: 1.0\n",
      "exp:2.0\t, p:0.1\t test acc: 0.9702 \t train acc: 1.0\n",
      "exp:2.0\t, p:0.2\t test acc: 0.9612 \t train acc: 1.0\n",
      "exp:2.0\t, p:0.30000000000000004\t test acc: 0.9482 \t train acc: 1.0\n",
      "exp:2.0\t, p:0.4\t test acc: 0.9401 \t train acc: 1.0\n",
      "exp:2.0\t, p:0.5\t test acc: 0.9207 \t train acc: 1.0\n",
      "exp:2.0\t, p:0.6000000000000001\t test acc: 0.9082 \t train acc: 1.0\n",
      "exp:2.0\t, p:0.7000000000000001\t test acc: 0.893 \t train acc: 1.0\n",
      "exp:2.0\t, p:0.8\t test acc: 0.8801 \t train acc: 1.0\n",
      "exp:2.0\t, p:0.9\t test acc: 0.8743 \t train acc: 1.0\n",
      "exp:2.0\t, p:1.0\t test acc: 0.8729 \t train acc: 1.0\n",
      "\n"
     ]
    }
   ],
   "source": [
    "## ARRAY of CMs\n",
    "\n",
    "res = []\n",
    "\n",
    "exps = np.linspace(-2, 2, 4*2 + 1)\n",
    "ps = np.linspace(0, 1, 11)\n",
    "for e in tqdm(exps):\n",
    "    C_svm = 10**e\n",
    "    \n",
    "    for p in ps:\n",
    "        C = np.eye(10) # C[i, j] = Pr[j --> i]\n",
    "        C[0, 0] = (1-p)\n",
    "        C[1, 0] = p\n",
    "\n",
    "        y_tr_orig = np.copy(ker.y[I_tr])\n",
    "        y_tr = apply_noise(y_tr_orig, C)\n",
    "\n",
    "        predsTe, predsTr = train_svm2(y_tr, C = C_svm)\n",
    "\n",
    "        acc    = (predsTe == y_te).mean()\n",
    "        tr_acc = (predsTr == y_tr).mean()\n",
    "        print(f'exp:{e}\\t, p:{p}\\t test acc: {acc} \\t train acc: {tr_acc}')\n",
    "\n",
    "        cm_tr_ideal = C.dot(0.1*np.eye(10)) # ideal joint density\n",
    "        cm_tr = joint_density(predsTr, y_tr_orig, num_classes=10)\n",
    "        cm_te = joint_density(predsTe, y_te, num_classes=10)\n",
    "\n",
    "        d = {\n",
    "            'p' : p,\n",
    "            'C' : C_svm,\n",
    "            'C_exp': e,\n",
    "            'acc' : acc,\n",
    "            'tr_acc' : tr_acc,\n",
    "            'cm_tr' : cm_tr,\n",
    "            'cm_te' : cm_te,\n",
    "            'cm_tr_ideal': cm_tr_ideal}\n",
    "\n",
    "        res.append(d)"
   ]
  },
  {
   "cell_type": "code",
   "execution_count": 87,
   "metadata": {},
   "outputs": [],
   "source": [
    "gsave(res, f'gs://ANONYMOUS/results/nde/kernels/conf/mnist/svm_grid_targ01_N{ntr}_s{sigma}')"
   ]
  },
  {
   "cell_type": "code",
   "execution_count": null,
   "metadata": {},
   "outputs": [],
   "source": []
  }
 ],
 "metadata": {
  "kernelspec": {
   "display_name": "Python 3",
   "language": "python",
   "name": "python3"
  },
  "language_info": {
   "codemirror_mode": {
    "name": "ipython",
    "version": 3
   },
   "file_extension": ".py",
   "mimetype": "text/x-python",
   "name": "python",
   "nbconvert_exporter": "python",
   "pygments_lexer": "ipython3",
   "version": "3.7.4"
  }
 },
 "nbformat": 4,
 "nbformat_minor": 4
}
